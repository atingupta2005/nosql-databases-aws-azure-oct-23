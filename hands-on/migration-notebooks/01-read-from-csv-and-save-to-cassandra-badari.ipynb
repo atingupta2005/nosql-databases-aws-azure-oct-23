{
 "cells": [
  {
   "cell_type": "code",
   "execution_count": 1,
   "id": "6c63fa55-a707-47c0-ad95-809053b2cfea",
   "metadata": {},
   "outputs": [
    {
     "name": "stdout",
     "output_type": "stream",
     "text": [
      "Requirement already satisfied: cassandra-driver in /pyenv/lib/python3.10/site-packages (3.28.0)\n",
      "Requirement already satisfied: geomet<0.3,>=0.1 in /pyenv/lib/python3.10/site-packages (from cassandra-driver) (0.2.1.post1)\n",
      "Requirement already satisfied: six>=1.9 in /pyenv/lib/python3.10/site-packages (from cassandra-driver) (1.16.0)\n",
      "Requirement already satisfied: click in /pyenv/lib/python3.10/site-packages (from geomet<0.3,>=0.1->cassandra-driver) (8.1.7)\n"
     ]
    }
   ],
   "source": [
    "!pip install cassandra-driver"
   ]
  },
  {
   "cell_type": "code",
   "execution_count": 2,
   "id": "125c5d2a-ddeb-4048-9e61-37ae7027b1e1",
   "metadata": {},
   "outputs": [],
   "source": [
    "from cassandra.cluster import Cluster\n",
    "from ssl import SSLContext, PROTOCOL_TLSv1_2 , CERT_REQUIRED\n",
    "from cassandra.auth import PlainTextAuthProvider"
   ]
  },
  {
   "cell_type": "code",
   "execution_count": 3,
   "id": "eaf9c864-f949-4563-beb9-5e997cbc08b7",
   "metadata": {},
   "outputs": [],
   "source": [
    "cluster_cassandra = Cluster(['127.0.0.1'], port=9042)"
   ]
  },
  {
   "cell_type": "code",
   "execution_count": 4,
   "id": "0c5a8b95-2d91-4298-99d7-198d2d3aa55d",
   "metadata": {},
   "outputs": [],
   "source": [
    "session_cassandra = cluster_cassandra.connect()"
   ]
  },
  {
   "cell_type": "code",
   "execution_count": 5,
   "id": "3c8a2c0e-3156-4337-a15c-85570d9bc8e1",
   "metadata": {},
   "outputs": [],
   "source": [
    "command = \"\"\"\n",
    "CREATE KEYSPACE IF NOT EXISTS badariks\n",
    "\n",
    "WITH replication = {'class':'SimpleStrategy', 'replication_factor' : 2};\n",
    "\"\"\""
   ]
  },
  {
   "cell_type": "code",
   "execution_count": 6,
   "id": "6a61d3b2-36cb-4388-b7b2-cfe75b88796c",
   "metadata": {},
   "outputs": [
    {
     "data": {
      "text/plain": [
       "<cassandra.cluster.ResultSet at 0x7f225d812470>"
      ]
     },
     "execution_count": 6,
     "metadata": {},
     "output_type": "execute_result"
    }
   ],
   "source": [
    "session_cassandra.execute(command)"
   ]
  },
  {
   "cell_type": "code",
   "execution_count": 7,
   "id": "277dde46-6d13-4153-9e96-48162be57947",
   "metadata": {},
   "outputs": [],
   "source": [
    "command = \"\"\"\n",
    "CREATE TABLE IF NOT EXISTS badariks.badari_table (\n",
    "   no int PRIMARY KEY,\n",
    "   name text)\n",
    "\"\"\""
   ]
  },
  {
   "cell_type": "code",
   "execution_count": 8,
   "id": "0f717617-2552-4288-9747-01c0f20eed3a",
   "metadata": {},
   "outputs": [
    {
     "data": {
      "text/plain": [
       "<cassandra.cluster.ResultSet at 0x7f225d8113f0>"
      ]
     },
     "execution_count": 8,
     "metadata": {},
     "output_type": "execute_result"
    }
   ],
   "source": [
    "session_cassandra.execute(command)"
   ]
  },
  {
   "cell_type": "code",
   "execution_count": 13,
   "id": "9efdf24e-0115-46cd-a094-d30a8c86cf2d",
   "metadata": {},
   "outputs": [],
   "source": [
    "command = \"\"\"\n",
    "USE badariks\n",
    "\"\"\""
   ]
  },
  {
   "cell_type": "code",
   "execution_count": 14,
   "id": "005eb73f-c341-4002-b5b0-febf0853f50b",
   "metadata": {},
   "outputs": [
    {
     "data": {
      "text/plain": [
       "<cassandra.cluster.ResultSet at 0x7f2230084160>"
      ]
     },
     "execution_count": 14,
     "metadata": {},
     "output_type": "execute_result"
    }
   ],
   "source": [
    "session_cassandra.execute(command)"
   ]
  },
  {
   "cell_type": "code",
   "execution_count": 15,
   "id": "12739b2a-fe54-4a75-bd32-6e2867b81c92",
   "metadata": {},
   "outputs": [],
   "source": [
    "command = \"\"\"\n",
    "insert into badariks.badari_table (no, name) VALUES(1, 'badari')\n",
    "\"\"\""
   ]
  },
  {
   "cell_type": "code",
   "execution_count": 16,
   "id": "cbb76b38-4a9e-49fc-8e3d-63b2a5d0d00e",
   "metadata": {},
   "outputs": [
    {
     "data": {
      "text/plain": [
       "<cassandra.cluster.ResultSet at 0x7f2230087fa0>"
      ]
     },
     "execution_count": 16,
     "metadata": {},
     "output_type": "execute_result"
    }
   ],
   "source": [
    "session_cassandra.execute(command)"
   ]
  },
  {
   "cell_type": "code",
   "execution_count": 17,
   "id": "d9ea0ae6-5e3e-4661-85ba-2d8a271a3b80",
   "metadata": {},
   "outputs": [
    {
     "name": "stdout",
     "output_type": "stream",
     "text": [
      "Requirement already satisfied: pandas in /pyenv/lib/python3.10/site-packages (2.1.1)\n",
      "Requirement already satisfied: numpy>=1.22.4 in /pyenv/lib/python3.10/site-packages (from pandas) (1.26.0)\n",
      "Requirement already satisfied: pytz>=2020.1 in /pyenv/lib/python3.10/site-packages (from pandas) (2023.3.post1)\n",
      "Requirement already satisfied: tzdata>=2022.1 in /pyenv/lib/python3.10/site-packages (from pandas) (2023.3)\n",
      "Requirement already satisfied: python-dateutil>=2.8.2 in /pyenv/lib/python3.10/site-packages (from pandas) (2.8.2)\n",
      "Requirement already satisfied: six>=1.5 in /pyenv/lib/python3.10/site-packages (from python-dateutil>=2.8.2->pandas) (1.16.0)\n"
     ]
    }
   ],
   "source": [
    "!pip install pandas\n",
    "import pandas as pd"
   ]
  },
  {
   "cell_type": "code",
   "execution_count": 27,
   "id": "7130ca7d-dbfc-4076-a510-1a531a7e3398",
   "metadata": {},
   "outputs": [],
   "source": [
    "dfemployees = pd.read_csv(\"badari.csv\")"
   ]
  },
  {
   "cell_type": "code",
   "execution_count": 28,
   "id": "48393c3c-0a2e-49a6-9d3e-24aab6bcfb1a",
   "metadata": {},
   "outputs": [
    {
     "data": {
      "text/html": [
       "<div>\n",
       "<style scoped>\n",
       "    .dataframe tbody tr th:only-of-type {\n",
       "        vertical-align: middle;\n",
       "    }\n",
       "\n",
       "    .dataframe tbody tr th {\n",
       "        vertical-align: top;\n",
       "    }\n",
       "\n",
       "    .dataframe thead th {\n",
       "        text-align: right;\n",
       "    }\n",
       "</style>\n",
       "<table border=\"1\" class=\"dataframe\">\n",
       "  <thead>\n",
       "    <tr style=\"text-align: right;\">\n",
       "      <th></th>\n",
       "      <th>no</th>\n",
       "      <th>name</th>\n",
       "    </tr>\n",
       "  </thead>\n",
       "  <tbody>\n",
       "    <tr>\n",
       "      <th>0</th>\n",
       "      <td>1</td>\n",
       "      <td>babu</td>\n",
       "    </tr>\n",
       "    <tr>\n",
       "      <th>1</th>\n",
       "      <td>2</td>\n",
       "      <td>badari</td>\n",
       "    </tr>\n",
       "    <tr>\n",
       "      <th>2</th>\n",
       "      <td>3</td>\n",
       "      <td>narendra</td>\n",
       "    </tr>\n",
       "    <tr>\n",
       "      <th>3</th>\n",
       "      <td>4</td>\n",
       "      <td>vaskuri</td>\n",
       "    </tr>\n",
       "  </tbody>\n",
       "</table>\n",
       "</div>"
      ],
      "text/plain": [
       "   no       name\n",
       "0    1      babu\n",
       "1    2    badari\n",
       "2    3  narendra\n",
       "3    4   vaskuri"
      ]
     },
     "execution_count": 28,
     "metadata": {},
     "output_type": "execute_result"
    }
   ],
   "source": [
    "dfemployees"
   ]
  },
  {
   "cell_type": "code",
   "execution_count": 39,
   "id": "70b4a389-d9c4-4570-b7d7-2d1ed56787d3",
   "metadata": {},
   "outputs": [
    {
     "name": "stdout",
     "output_type": "stream",
     "text": [
      "1 babu\n",
      "--------------\n",
      "2 badari\n",
      "--------------\n",
      "3 narendra\n",
      "--------------\n",
      "4 vaskuri\n",
      "--------------\n"
     ]
    },
    {
     "name": "stderr",
     "output_type": "stream",
     "text": [
      "/tmp/ipykernel_6534/3804943730.py:3: FutureWarning: Series.__getitem__ treating keys as positions is deprecated. In a future version, integer keys will always be treated as labels (consistent with DataFrame behavior). To access a value by position, use `ser.iloc[pos]`\n",
      "  emp_no = emp[1][0]\n",
      "/tmp/ipykernel_6534/3804943730.py:4: FutureWarning: Series.__getitem__ treating keys as positions is deprecated. In a future version, integer keys will always be treated as labels (consistent with DataFrame behavior). To access a value by position, use `ser.iloc[pos]`\n",
      "  emp_name = emp[1][1]\n"
     ]
    }
   ],
   "source": [
    "for emp in dfemployees.iterrows():\n",
    "    #print(emp[0])\n",
    "    emp_no = emp[1][0]\n",
    "    emp_name = emp[1][1]\n",
    "    print(emp_no, emp_name)\n",
    "    print(\"--------------\")\n",
    "    command = f\"\"\"\n",
    "    insert into source.employees (no, name) VALUES({emp_no}, '{emp_name}')\n",
    "    \"\"\"\n",
    "    session_cassandra.execute(command)\n",
    "    \n",
    "    \n",
    "    "
   ]
  },
  {
   "cell_type": "code",
   "execution_count": 40,
   "id": "550e6577-a143-431d-a5bb-9582ae64260d",
   "metadata": {},
   "outputs": [
    {
     "name": "stdout",
     "output_type": "stream",
     "text": [
      "[Row(no=1, name='badari')]\n"
     ]
    }
   ],
   "source": [
    "r = session_cassandra.execute('select * from badariks.badari_table')\n",
    "print(r.current_rows)"
   ]
  },
  {
   "cell_type": "code",
   "execution_count": 41,
   "id": "0cd15b9d-83c3-4217-a0ab-e13dd608652a",
   "metadata": {},
   "outputs": [
    {
     "name": "stdout",
     "output_type": "stream",
     "text": [
      "Requirement already satisfied: aws in /pyenv/lib/python3.10/site-packages (0.2.5)\n",
      "Requirement already satisfied: boto in /pyenv/lib/python3.10/site-packages (from aws) (2.49.0)\n",
      "Requirement already satisfied: fabric>=1.6 in /pyenv/lib/python3.10/site-packages (from aws) (3.2.2)\n",
      "Requirement already satisfied: prettytable>=0.7 in /pyenv/lib/python3.10/site-packages (from aws) (3.9.0)\n",
      "Requirement already satisfied: invoke>=2.0 in /pyenv/lib/python3.10/site-packages (from fabric>=1.6->aws) (2.2.0)\n",
      "Requirement already satisfied: deprecated>=1.2 in /pyenv/lib/python3.10/site-packages (from fabric>=1.6->aws) (1.2.14)\n",
      "Requirement already satisfied: paramiko>=2.4 in /pyenv/lib/python3.10/site-packages (from fabric>=1.6->aws) (3.3.1)\n",
      "Requirement already satisfied: decorator>=5 in /pyenv/lib/python3.10/site-packages (from fabric>=1.6->aws) (5.1.1)\n",
      "Requirement already satisfied: wcwidth in /pyenv/lib/python3.10/site-packages (from prettytable>=0.7->aws) (0.2.8)\n",
      "Requirement already satisfied: wrapt<2,>=1.10 in /pyenv/lib/python3.10/site-packages (from deprecated>=1.2->fabric>=1.6->aws) (1.15.0)\n",
      "Requirement already satisfied: cryptography>=3.3 in /pyenv/lib/python3.10/site-packages (from paramiko>=2.4->fabric>=1.6->aws) (41.0.4)\n",
      "Requirement already satisfied: pynacl>=1.5 in /pyenv/lib/python3.10/site-packages (from paramiko>=2.4->fabric>=1.6->aws) (1.5.0)\n",
      "Requirement already satisfied: bcrypt>=3.2 in /pyenv/lib/python3.10/site-packages (from paramiko>=2.4->fabric>=1.6->aws) (4.0.1)\n",
      "Requirement already satisfied: cffi>=1.12 in /pyenv/lib/python3.10/site-packages (from cryptography>=3.3->paramiko>=2.4->fabric>=1.6->aws) (1.16.0)\n",
      "Requirement already satisfied: pycparser in /pyenv/lib/python3.10/site-packages (from cffi>=1.12->cryptography>=3.3->paramiko>=2.4->fabric>=1.6->aws) (2.21)\n",
      "Note: you may need to restart the kernel to use updated packages.\n"
     ]
    }
   ],
   "source": [
    "pip install aws"
   ]
  },
  {
   "cell_type": "code",
   "execution_count": 42,
   "id": "03e32000-7217-4623-8765-f8c7707085ba",
   "metadata": {},
   "outputs": [
    {
     "name": "stderr",
     "output_type": "stream",
     "text": [
      "/tmp/ipykernel_6534/972152945.py:1: DeprecationWarning: ssl.PROTOCOL_TLSv1_2 is deprecated\n",
      "  ssl_context = SSLContext(PROTOCOL_TLSv1_2 )\n"
     ]
    }
   ],
   "source": [
    "ssl_context = SSLContext(PROTOCOL_TLSv1_2 )\n",
    "ssl_context.load_verify_locations('sf-class2-root.crt')"
   ]
  },
  {
   "cell_type": "code",
   "execution_count": 43,
   "id": "d4834c87-1d20-4287-ba8e-c5fe73a4570c",
   "metadata": {},
   "outputs": [],
   "source": [
    "ssl_context.verify_mode = CERT_REQUIRED\n",
    "auth_provider = PlainTextAuthProvider(username='u1-at-044323040668', password='2/XrmsY7nIBQJCl0KBgZjhWY9P/SYM3DRPZ4w8dopRI=')"
   ]
  },
  {
   "cell_type": "code",
   "execution_count": 44,
   "id": "ec748f17-e846-4fd5-bb94-de8577bf7b1f",
   "metadata": {},
   "outputs": [],
   "source": [
    "cluster_aws = Cluster(['cassandra.us-east-1.amazonaws.com'], ssl_context=ssl_context, auth_provider=auth_provider, port=9142)"
   ]
  },
  {
   "cell_type": "code",
   "execution_count": 45,
   "id": "cc6b6087-3298-4be8-bfb7-c7dcb161e400",
   "metadata": {},
   "outputs": [],
   "source": [
    "session_aws = cluster_aws.connect()"
   ]
  },
  {
   "cell_type": "code",
   "execution_count": 46,
   "id": "e5edcdcb-0838-4a42-9d45-57fbb9d27ac3",
   "metadata": {},
   "outputs": [],
   "source": [
    "command = \"\"\"\n",
    "select * from badariks.badari_table\n",
    "\"\"\""
   ]
  },
  {
   "cell_type": "code",
   "execution_count": 48,
   "id": "2e72b751-1e97-414f-8cb6-eb720e13416c",
   "metadata": {},
   "outputs": [],
   "source": [
    "rows_source_emp = session_cassandra.execute(command)"
   ]
  },
  {
   "cell_type": "code",
   "execution_count": 54,
   "id": "cf3ac922-9e60-49b8-95cb-2502078ff02c",
   "metadata": {},
   "outputs": [],
   "source": [
    "command = \"\"\"\n",
    "CREATE KEYSPACE IF NOT EXISTS babuks\n",
    "\n",
    "WITH replication = {'class':'SimpleStrategy', 'replication_factor' : 2};\n",
    "\"\"\""
   ]
  },
  {
   "cell_type": "code",
   "execution_count": null,
   "id": "a7e303d4-21a2-42f7-9ca2-55d3b3aada5b",
   "metadata": {},
   "outputs": [],
   "source": []
  },
  {
   "cell_type": "code",
   "execution_count": 56,
   "id": "e06d825b-aad9-409f-8a86-9bf2f4efbbe7",
   "metadata": {},
   "outputs": [
    {
     "data": {
      "text/plain": [
       "<cassandra.cluster.ResultSet at 0x7f22303b4370>"
      ]
     },
     "execution_count": 56,
     "metadata": {},
     "output_type": "execute_result"
    }
   ],
   "source": [
    "session_aws.execute(command)"
   ]
  },
  {
   "cell_type": "code",
   "execution_count": 78,
   "id": "92385fcb-eebe-4477-bb56-76d78a1cd961",
   "metadata": {},
   "outputs": [],
   "source": [
    "command = \"\"\"\n",
    "CREATE TABLE IF NOT EXISTS babuks.employee1 (\n",
    "   no int PRIMARY KEY,\n",
    "   name text)\n",
    "\"\"\""
   ]
  },
  {
   "cell_type": "code",
   "execution_count": 79,
   "id": "8a925ae4-f34e-4cbb-92a2-0c3868a3b1f7",
   "metadata": {},
   "outputs": [
    {
     "data": {
      "text/plain": [
       "<cassandra.cluster.ResultSet at 0x7f22303b4b20>"
      ]
     },
     "execution_count": 79,
     "metadata": {},
     "output_type": "execute_result"
    }
   ],
   "source": [
    "session_aws.execute(command)"
   ]
  },
  {
   "cell_type": "code",
   "execution_count": 80,
   "id": "91cfa8e8-fcd7-4b18-a20c-bf1966012318",
   "metadata": {},
   "outputs": [],
   "source": [
    "from cassandra import ConsistencyLevel\n",
    "from cassandra.query import SimpleStatement\n",
    "\n",
    "for row in rows_source_emp:\n",
    "    query = SimpleStatement(\n",
    "        \"INSERT INTO  babuks.employee1(no, name) VALUES (%s, %s)\",\n",
    "        consistency_level=ConsistencyLevel.LOCAL_QUORUM)\n",
    "    session_aws.execute(query, row)"
   ]
  },
  {
   "cell_type": "code",
   "execution_count": 82,
   "id": "671ddaef-47d8-4403-b232-9bfc60e3e132",
   "metadata": {},
   "outputs": [],
   "source": [
    "row = session_aws.execute(\"select * from babuks.employee1\")"
   ]
  },
  {
   "cell_type": "code",
   "execution_count": 83,
   "id": "d4846e77-aae8-4dbc-bd47-57533230fbbb",
   "metadata": {},
   "outputs": [],
   "source": [
    "for row in rows:\n",
    "    print(row)"
   ]
  },
  {
   "cell_type": "code",
   "execution_count": null,
   "id": "8376b3a3-8cb3-4e7a-935d-8136e6b79cb3",
   "metadata": {},
   "outputs": [],
   "source": []
  },
  {
   "cell_type": "code",
   "execution_count": null,
   "id": "6b8aa8aa-7598-4704-9311-205bee535005",
   "metadata": {},
   "outputs": [],
   "source": []
  }
 ],
 "metadata": {
  "kernelspec": {
   "display_name": "Python 3 (ipykernel)",
   "language": "python",
   "name": "python3"
  },
  "language_info": {
   "codemirror_mode": {
    "name": "ipython",
    "version": 3
   },
   "file_extension": ".py",
   "mimetype": "text/x-python",
   "name": "python",
   "nbconvert_exporter": "python",
   "pygments_lexer": "ipython3",
   "version": "3.10.12"
  }
 },
 "nbformat": 4,
 "nbformat_minor": 5
}
