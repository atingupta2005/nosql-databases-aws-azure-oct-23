{
 "cells": [
  {
   "cell_type": "code",
   "execution_count": 1,
   "id": "6c63fa55-a707-47c0-ad95-809053b2cfea",
   "metadata": {},
   "outputs": [
    {
     "name": "stdout",
     "output_type": "stream",
     "text": [
      "Requirement already satisfied: cassandra-driver in /pyenv/lib/python3.10/site-packages (3.28.0)\n",
      "Requirement already satisfied: geomet<0.3,>=0.1 in /pyenv/lib/python3.10/site-packages (from cassandra-driver) (0.2.1.post1)\n",
      "Requirement already satisfied: six>=1.9 in /pyenv/lib/python3.10/site-packages (from cassandra-driver) (1.16.0)\n",
      "Requirement already satisfied: click in /pyenv/lib/python3.10/site-packages (from geomet<0.3,>=0.1->cassandra-driver) (8.1.7)\n"
     ]
    }
   ],
   "source": [
    "!pip install cassandra-driver"
   ]
  },
  {
   "cell_type": "code",
   "execution_count": 2,
   "id": "125c5d2a-ddeb-4048-9e61-37ae7027b1e1",
   "metadata": {},
   "outputs": [],
   "source": [
    "from cassandra.cluster import Cluster\n",
    "from ssl import SSLContext, PROTOCOL_TLSv1_2 , CERT_REQUIRED\n",
    "from cassandra.auth import PlainTextAuthProvider"
   ]
  },
  {
   "cell_type": "code",
   "execution_count": 3,
   "id": "eaf9c864-f949-4563-beb9-5e997cbc08b7",
   "metadata": {},
   "outputs": [],
   "source": [
    "cluster_cassandra = Cluster(['127.0.0.1'], port=9042)"
   ]
  },
  {
   "cell_type": "code",
   "execution_count": 4,
   "id": "0c5a8b95-2d91-4298-99d7-198d2d3aa55d",
   "metadata": {},
   "outputs": [],
   "source": [
    "session_cassandra = cluster_cassandra.connect()"
   ]
  },
  {
   "cell_type": "code",
   "execution_count": 9,
   "id": "3c8a2c0e-3156-4337-a15c-85570d9bc8e1",
   "metadata": {},
   "outputs": [],
   "source": [
    "command = \"\"\"\n",
    "CREATE KEYSPACE IF NOT EXISTS suresh\n",
    "\n",
    "WITH replication = {'class':'SimpleStrategy', 'replication_factor' : 2};\n",
    "\"\"\""
   ]
  },
  {
   "cell_type": "code",
   "execution_count": 10,
   "id": "6a61d3b2-36cb-4388-b7b2-cfe75b88796c",
   "metadata": {},
   "outputs": [
    {
     "data": {
      "text/plain": [
       "<cassandra.cluster.ResultSet at 0x7fc04b188130>"
      ]
     },
     "execution_count": 10,
     "metadata": {},
     "output_type": "execute_result"
    }
   ],
   "source": [
    "session_cassandra.execute(command)"
   ]
  },
  {
   "cell_type": "code",
   "execution_count": 11,
   "id": "277dde46-6d13-4153-9e96-48162be57947",
   "metadata": {},
   "outputs": [],
   "source": [
    "command = \"\"\"\n",
    "CREATE TABLE IF NOT EXISTS suresh.emp (\n",
    "   no int PRIMARY KEY,\n",
    "   name text)\n",
    "\"\"\""
   ]
  },
  {
   "cell_type": "code",
   "execution_count": 12,
   "id": "0f717617-2552-4288-9747-01c0f20eed3a",
   "metadata": {},
   "outputs": [
    {
     "data": {
      "text/plain": [
       "<cassandra.cluster.ResultSet at 0x7fc04b0cf1c0>"
      ]
     },
     "execution_count": 12,
     "metadata": {},
     "output_type": "execute_result"
    }
   ],
   "source": [
    "session_cassandra.execute(command)"
   ]
  },
  {
   "cell_type": "code",
   "execution_count": 16,
   "id": "9efdf24e-0115-46cd-a094-d30a8c86cf2d",
   "metadata": {},
   "outputs": [],
   "source": [
    "command = \"\"\"\n",
    "USE suresh;\n",
    "\"\"\""
   ]
  },
  {
   "cell_type": "code",
   "execution_count": 17,
   "id": "005eb73f-c341-4002-b5b0-febf0853f50b",
   "metadata": {},
   "outputs": [
    {
     "data": {
      "text/plain": [
       "<cassandra.cluster.ResultSet at 0x7fc048eb0af0>"
      ]
     },
     "execution_count": 17,
     "metadata": {},
     "output_type": "execute_result"
    }
   ],
   "source": [
    "session_cassandra.execute(command)"
   ]
  },
  {
   "cell_type": "code",
   "execution_count": 22,
   "id": "12739b2a-fe54-4a75-bd32-6e2867b81c92",
   "metadata": {},
   "outputs": [],
   "source": [
    "command = \"\"\"\n",
    "insert into suresh.emp (no, name) VALUES(1, 'Hemke')\n",
    "\"\"\""
   ]
  },
  {
   "cell_type": "code",
   "execution_count": 23,
   "id": "cbb76b38-4a9e-49fc-8e3d-63b2a5d0d00e",
   "metadata": {},
   "outputs": [
    {
     "data": {
      "text/plain": [
       "<cassandra.cluster.ResultSet at 0x7fc048e9d030>"
      ]
     },
     "execution_count": 23,
     "metadata": {},
     "output_type": "execute_result"
    }
   ],
   "source": [
    "session_cassandra.execute(command)"
   ]
  },
  {
   "cell_type": "code",
   "execution_count": 26,
   "id": "d9ea0ae6-5e3e-4661-85ba-2d8a271a3b80",
   "metadata": {},
   "outputs": [
    {
     "name": "stdout",
     "output_type": "stream",
     "text": [
      "Requirement already satisfied: pandas in /pyenv/lib/python3.10/site-packages (2.1.1)\n",
      "Requirement already satisfied: tzdata>=2022.1 in /pyenv/lib/python3.10/site-packages (from pandas) (2023.3)\n",
      "Requirement already satisfied: python-dateutil>=2.8.2 in /pyenv/lib/python3.10/site-packages (from pandas) (2.8.2)\n",
      "Requirement already satisfied: pytz>=2020.1 in /pyenv/lib/python3.10/site-packages (from pandas) (2023.3.post1)\n",
      "Requirement already satisfied: numpy>=1.22.4 in /pyenv/lib/python3.10/site-packages (from pandas) (1.26.0)\n",
      "Requirement already satisfied: six>=1.5 in /pyenv/lib/python3.10/site-packages (from python-dateutil>=2.8.2->pandas) (1.16.0)\n"
     ]
    }
   ],
   "source": [
    "!pip install pandas\n",
    "import pandas as pd"
   ]
  },
  {
   "cell_type": "code",
   "execution_count": 38,
   "id": "7130ca7d-dbfc-4076-a510-1a531a7e3398",
   "metadata": {},
   "outputs": [],
   "source": [
    "dfemployees = pd.read_csv(\"employees.csv\")"
   ]
  },
  {
   "cell_type": "code",
   "execution_count": 39,
   "id": "48393c3c-0a2e-49a6-9d3e-24aab6bcfb1a",
   "metadata": {},
   "outputs": [
    {
     "data": {
      "text/html": [
       "<div>\n",
       "<style scoped>\n",
       "    .dataframe tbody tr th:only-of-type {\n",
       "        vertical-align: middle;\n",
       "    }\n",
       "\n",
       "    .dataframe tbody tr th {\n",
       "        vertical-align: top;\n",
       "    }\n",
       "\n",
       "    .dataframe thead th {\n",
       "        text-align: right;\n",
       "    }\n",
       "</style>\n",
       "<table border=\"1\" class=\"dataframe\">\n",
       "  <thead>\n",
       "    <tr style=\"text-align: right;\">\n",
       "      <th></th>\n",
       "      <th>no</th>\n",
       "      <th>name</th>\n",
       "    </tr>\n",
       "  </thead>\n",
       "  <tbody>\n",
       "    <tr>\n",
       "      <th>0</th>\n",
       "      <td>1</td>\n",
       "      <td>Atin</td>\n",
       "    </tr>\n",
       "    <tr>\n",
       "      <th>1</th>\n",
       "      <td>2</td>\n",
       "      <td>Chetan</td>\n",
       "    </tr>\n",
       "    <tr>\n",
       "      <th>2</th>\n",
       "      <td>3</td>\n",
       "      <td>Badri</td>\n",
       "    </tr>\n",
       "    <tr>\n",
       "      <th>3</th>\n",
       "      <td>4</td>\n",
       "      <td>Satish</td>\n",
       "    </tr>\n",
       "    <tr>\n",
       "      <th>4</th>\n",
       "      <td>5</td>\n",
       "      <td>Suresh</td>\n",
       "    </tr>\n",
       "    <tr>\n",
       "      <th>5</th>\n",
       "      <td>6</td>\n",
       "      <td>Sandeep</td>\n",
       "    </tr>\n",
       "    <tr>\n",
       "      <th>6</th>\n",
       "      <td>7</td>\n",
       "      <td>Manish</td>\n",
       "    </tr>\n",
       "    <tr>\n",
       "      <th>7</th>\n",
       "      <td>8</td>\n",
       "      <td>Parul</td>\n",
       "    </tr>\n",
       "    <tr>\n",
       "      <th>8</th>\n",
       "      <td>9</td>\n",
       "      <td>Pooja</td>\n",
       "    </tr>\n",
       "    <tr>\n",
       "      <th>9</th>\n",
       "      <td>10</td>\n",
       "      <td>Jaynesh</td>\n",
       "    </tr>\n",
       "  </tbody>\n",
       "</table>\n",
       "</div>"
      ],
      "text/plain": [
       "   no     name\n",
       "0   1     Atin\n",
       "1   2   Chetan\n",
       "2   3    Badri\n",
       "3   4   Satish\n",
       "4   5   Suresh\n",
       "5   6  Sandeep\n",
       "6   7   Manish\n",
       "7   8    Parul\n",
       "8   9    Pooja\n",
       "9  10  Jaynesh"
      ]
     },
     "execution_count": 39,
     "metadata": {},
     "output_type": "execute_result"
    }
   ],
   "source": [
    "dfemployees"
   ]
  },
  {
   "cell_type": "code",
   "execution_count": 41,
   "id": "70b4a389-d9c4-4570-b7d7-2d1ed56787d3",
   "metadata": {},
   "outputs": [
    {
     "name": "stderr",
     "output_type": "stream",
     "text": [
      "/tmp/ipykernel_6658/3522623643.py:3: FutureWarning: Series.__getitem__ treating keys as positions is deprecated. In a future version, integer keys will always be treated as labels (consistent with DataFrame behavior). To access a value by position, use `ser.iloc[pos]`\n",
      "  emp_no = emp[1][0]\n",
      "/tmp/ipykernel_6658/3522623643.py:4: FutureWarning: Series.__getitem__ treating keys as positions is deprecated. In a future version, integer keys will always be treated as labels (consistent with DataFrame behavior). To access a value by position, use `ser.iloc[pos]`\n",
      "  emp_name = emp[1][1]\n"
     ]
    }
   ],
   "source": [
    "for emp in dfemployees.iterrows():\n",
    "    #print(emp[0])\n",
    "    emp_no = emp[1][0]\n",
    "    emp_name = emp[1][1]\n",
    "    #print(emp_no, emp_name)\n",
    "    #print(\"--------------\")\n",
    "    command = f\"\"\"\n",
    "    insert into suresh.emp (no, name) VALUES({emp_no}, '{emp_name}')\n",
    "    \"\"\"\n",
    "    session_cassandra.execute(command)\n",
    "    \n",
    "    \n",
    "    "
   ]
  },
  {
   "cell_type": "code",
   "execution_count": null,
   "id": "550e6577-a143-431d-a5bb-9582ae64260d",
   "metadata": {},
   "outputs": [],
   "source": []
  }
 ],
 "metadata": {
  "kernelspec": {
   "display_name": "Python 3 (ipykernel)",
   "language": "python",
   "name": "python3"
  },
  "language_info": {
   "codemirror_mode": {
    "name": "ipython",
    "version": 3
   },
   "file_extension": ".py",
   "mimetype": "text/x-python",
   "name": "python",
   "nbconvert_exporter": "python",
   "pygments_lexer": "ipython3",
   "version": "3.10.12"
  }
 },
 "nbformat": 4,
 "nbformat_minor": 5
}
