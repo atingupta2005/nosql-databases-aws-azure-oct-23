{
 "cells": [
  {
   "cell_type": "markdown",
   "id": "44c787a7",
   "metadata": {},
   "source": [
    "\n",
    "\n",
    "\n",
    "\n",
    "\n",
    "```\n",
    "source /pyenv/bin/activate\n",
    "sudo mkdir -p /workdir\n",
    "sudo chmod -R 777 /workdir\n",
    "cd /workdir\n",
    "pip install jupyter\n",
    "nohup jupyter notebook --ip 0.0.0.0 --port 8888 &\n",
    "```"
   ]
  },
  {
   "cell_type": "markdown",
   "id": "f7ad1b62-b8f1-4e32-9bb7-85d794849d20",
   "metadata": {},
   "source": [
    "```\n",
    "sudo apt install unzip\n",
    "pip install cassandra-driver\n",
    "curl https://certs.secureserver.net/repository/sf-class2-root.crt -O\n",
    "curl \"https://awscli.amazonaws.com/awscli-exe-linux-x86_64.zip\" -o \"awscliv2.zip\"\n",
    "unzip awscliv2.zip\n",
    "sudo ./aws/install\n",
    "aws configure\n",
    "```"
   ]
  },
  {
   "cell_type": "code",
   "execution_count": 1,
   "id": "cb404a0c-ccfe-4364-ad24-fb333f337ea8",
   "metadata": {},
   "outputs": [],
   "source": [
    "from cassandra.cluster import Cluster\n",
    "from ssl import SSLContext, PROTOCOL_TLSv1_2 , CERT_REQUIRED\n",
    "from cassandra.auth import PlainTextAuthProvider"
   ]
  },
  {
   "cell_type": "code",
   "execution_count": 2,
   "id": "1873512e-140d-4b3a-8fe5-fd29cc1ebd16",
   "metadata": {},
   "outputs": [
    {
     "name": "stderr",
     "output_type": "stream",
     "text": [
      "/tmp/ipykernel_3255/972152945.py:1: DeprecationWarning: ssl.PROTOCOL_TLSv1_2 is deprecated\n",
      "  ssl_context = SSLContext(PROTOCOL_TLSv1_2 )\n"
     ]
    }
   ],
   "source": [
    "ssl_context = SSLContext(PROTOCOL_TLSv1_2 )\n",
    "ssl_context.load_verify_locations('sf-class2-root.crt')"
   ]
  },
  {
   "cell_type": "code",
   "execution_count": 3,
   "id": "d64a33d4-9da6-4ef2-aecd-86ae6aecca52",
   "metadata": {},
   "outputs": [],
   "source": [
    "ssl_context.verify_mode = CERT_REQUIRED\n",
    "auth_provider = PlainTextAuthProvider(username='u1-at-044323040668', password='2/XrmsY7nIBQJCl0KBgZjhWY9P/SYM3DRPZ4w8dopRI=')"
   ]
  },
  {
   "cell_type": "code",
   "execution_count": 4,
   "id": "4e65d898-1914-4294-a900-f848f286c9f5",
   "metadata": {},
   "outputs": [],
   "source": [
    "cluster = Cluster(['cassandra.us-east-1.amazonaws.com'], ssl_context=ssl_context, auth_provider=auth_provider, port=9142)"
   ]
  },
  {
   "cell_type": "code",
   "execution_count": 5,
   "id": "4330921b-e7bf-47cd-9bf2-dae782951b03",
   "metadata": {},
   "outputs": [],
   "source": [
    "session = cluster.connect()"
   ]
  },
  {
   "cell_type": "code",
   "execution_count": 6,
   "id": "d234fadc-0780-4029-bd8a-8fd4f245f443",
   "metadata": {},
   "outputs": [
    {
     "name": "stdout",
     "output_type": "stream",
     "text": [
      "[Row(keyspace_name='system_schema', durable_writes=True, replication=OrderedMapSerializedKey([('class', 'com.amazonaws.cassandra.DefaultReplication')])), Row(keyspace_name='system_schema_mcs', durable_writes=True, replication=OrderedMapSerializedKey([('class', 'com.amazonaws.cassandra.DefaultReplication')])), Row(keyspace_name='system', durable_writes=True, replication=OrderedMapSerializedKey([('class', 'com.amazonaws.cassandra.DefaultReplication')])), Row(keyspace_name='system_multiregion_info', durable_writes=True, replication=OrderedMapSerializedKey([('class', 'com.amazonaws.cassandra.DefaultReplication')])), Row(keyspace_name='ag_aws_ks', durable_writes=True, replication=OrderedMapSerializedKey([('class', 'com.amazonaws.cassandra.DefaultReplication')]))]\n"
     ]
    }
   ],
   "source": [
    "r = session.execute('select * from system_schema.keyspaces')\n",
    "print(r.current_rows)"
   ]
  },
  {
   "cell_type": "code",
   "execution_count": 7,
   "id": "318a598e-aa27-4ae9-a3cf-400eaace8447",
   "metadata": {},
   "outputs": [
    {
     "name": "stdout",
     "output_type": "stream",
     "text": [
      "<cassandra.cluster.ResultSet object at 0x7fd2640e87f0>\n"
     ]
    }
   ],
   "source": [
    "rows = session.execute(\"SELECT * FROM ag_aws_ks.employees\")\n",
    "print(rows)"
   ]
  },
  {
   "cell_type": "code",
   "execution_count": 8,
   "id": "0b747894-4fde-4eab-a343-5eb9c4ba735b",
   "metadata": {},
   "outputs": [
    {
     "name": "stdout",
     "output_type": "stream",
     "text": [
      "Row(no=2, name='Jaynesh')\n",
      "Row(no=1, name='Atin')\n"
     ]
    }
   ],
   "source": [
    "for row in rows:\n",
    "    print(row)"
   ]
  },
  {
   "cell_type": "code",
   "execution_count": 10,
   "id": "b4ed5f58-33dc-40e5-8106-b9ced5b82fd6",
   "metadata": {},
   "outputs": [],
   "source": [
    "from cassandra.cluster import Cluster\n",
    "\n",
    "cluster2 = Cluster(['localhost'], port=9042)\n",
    "session2 = cluster2.connect()\n"
   ]
  },
  {
   "cell_type": "code",
   "execution_count": 11,
   "id": "3501a6d5-b971-408b-a8f1-eb765695b750",
   "metadata": {},
   "outputs": [],
   "source": [
    "command = \"\"\"\n",
    "CREATE KEYSPACE IF NOT EXISTS targetu3\n",
    "\n",
    "WITH replication = {'class':'SimpleStrategy', 'replication_factor' : 2};\n",
    "\"\"\""
   ]
  },
  {
   "cell_type": "code",
   "execution_count": 12,
   "id": "9344fa91-c0ad-4a07-9525-b5516c138363",
   "metadata": {},
   "outputs": [
    {
     "data": {
      "text/plain": [
       "<cassandra.cluster.ResultSet at 0x7fd257f669e0>"
      ]
     },
     "execution_count": 12,
     "metadata": {},
     "output_type": "execute_result"
    }
   ],
   "source": [
    "session2.execute(command)"
   ]
  },
  {
   "cell_type": "code",
   "execution_count": 13,
   "id": "8f7c623e-a97f-42ee-84ec-329f20ff8b60",
   "metadata": {},
   "outputs": [],
   "source": [
    "command = \"\"\"\n",
    "CREATE TABLE IF NOT EXISTS targetu3.employees (\n",
    "   no int PRIMARY KEY,\n",
    "   name text)\n",
    "\"\"\""
   ]
  },
  {
   "cell_type": "code",
   "execution_count": 14,
   "id": "192090aa-a70f-4ca2-8fcc-b31062e4ca9d",
   "metadata": {},
   "outputs": [
    {
     "data": {
      "text/plain": [
       "<cassandra.cluster.ResultSet at 0x7fd257f64340>"
      ]
     },
     "execution_count": 14,
     "metadata": {},
     "output_type": "execute_result"
    }
   ],
   "source": [
    "session2.execute(command)"
   ]
  },
  {
   "cell_type": "code",
   "execution_count": 15,
   "id": "673e16a2-5804-444c-9f1e-93561b7e9efb",
   "metadata": {},
   "outputs": [
    {
     "name": "stdout",
     "output_type": "stream",
     "text": [
      "<cassandra.cluster.ResultSet object at 0x7fd257f66b00>\n"
     ]
    }
   ],
   "source": [
    "rows = session.execute(\"SELECT * FROM ag_aws_ks.employees\")\n",
    "print(rows)"
   ]
  },
  {
   "cell_type": "code",
   "execution_count": 20,
   "id": "701d5830-f2a0-4679-b00d-77a4269722bc",
   "metadata": {},
   "outputs": [],
   "source": [
    "for row in rows:\n",
    "    print(row[0], row[1])\n",
    "    session2.execute(f\"insert into targetu3.employees(no, name) values ({row[0]}, '{row[1]}')\")"
   ]
  },
  {
   "cell_type": "code",
   "execution_count": 21,
   "id": "a60ed2a6-faeb-49d8-a037-18b6ca1e352e",
   "metadata": {},
   "outputs": [],
   "source": [
    "rows2 = session2.execute(\"SELECT * FROM targetu3.employees\")\n",
    "\n",
    "for row2 in rows2:\n",
    "    print(row2)"
   ]
  },
  {
   "cell_type": "code",
   "execution_count": 25,
   "id": "9c3ecfb4-f306-4366-bcbe-6ed9feca1968",
   "metadata": {},
   "outputs": [
    {
     "name": "stdout",
     "output_type": "stream",
     "text": [
      "Requirement already satisfied: amazon-dax-client in /pyenv/lib/python3.10/site-packages (2.0.3)\n",
      "Requirement already satisfied: botocore>=1.20.35,~=1.20 in /pyenv/lib/python3.10/site-packages (from amazon-dax-client) (1.31.62)\n",
      "Requirement already satisfied: six~=1.11 in /pyenv/lib/python3.10/site-packages (from amazon-dax-client) (1.16.0)\n",
      "Requirement already satisfied: antlr4-python3-runtime<=4.9.3,>=4.7.2,~=4.7 in /pyenv/lib/python3.10/site-packages (from amazon-dax-client) (4.9.3)\n",
      "Requirement already satisfied: jmespath<2.0.0,>=0.7.1 in /pyenv/lib/python3.10/site-packages (from botocore>=1.20.35,~=1.20->amazon-dax-client) (1.0.1)\n",
      "Requirement already satisfied: python-dateutil<3.0.0,>=2.1 in /pyenv/lib/python3.10/site-packages (from botocore>=1.20.35,~=1.20->amazon-dax-client) (2.8.2)\n",
      "Requirement already satisfied: urllib3<2.1,>=1.25.4 in /pyenv/lib/python3.10/site-packages (from botocore>=1.20.35,~=1.20->amazon-dax-client) (2.0.6)\n",
      "Requirement already satisfied: boto3 in /pyenv/lib/python3.10/site-packages (1.28.62)\n",
      "Requirement already satisfied: botocore<1.32.0,>=1.31.62 in /pyenv/lib/python3.10/site-packages (from boto3) (1.31.62)\n",
      "Requirement already satisfied: jmespath<2.0.0,>=0.7.1 in /pyenv/lib/python3.10/site-packages (from boto3) (1.0.1)\n",
      "Requirement already satisfied: s3transfer<0.8.0,>=0.7.0 in /pyenv/lib/python3.10/site-packages (from boto3) (0.7.0)\n",
      "Requirement already satisfied: python-dateutil<3.0.0,>=2.1 in /pyenv/lib/python3.10/site-packages (from botocore<1.32.0,>=1.31.62->boto3) (2.8.2)\n",
      "Requirement already satisfied: urllib3<2.1,>=1.25.4 in /pyenv/lib/python3.10/site-packages (from botocore<1.32.0,>=1.31.62->boto3) (2.0.6)\n",
      "Requirement already satisfied: six>=1.5 in /pyenv/lib/python3.10/site-packages (from python-dateutil<3.0.0,>=2.1->botocore<1.32.0,>=1.31.62->boto3) (1.16.0)\n"
     ]
    }
   ],
   "source": [
    "! pip install amazon-dax-client\n",
    "! pip install boto3"
   ]
  },
  {
   "cell_type": "code",
   "execution_count": 22,
   "id": "0fd642fc-eb32-4a0c-be93-7e2ac737eb89",
   "metadata": {},
   "outputs": [],
   "source": [
    "import boto3"
   ]
  },
  {
   "cell_type": "code",
   "execution_count": 23,
   "id": "a028b58f-0a70-413e-87a6-50443319234d",
   "metadata": {},
   "outputs": [],
   "source": [
    "dyn_resource = boto3.resource('dynamodb', region_name=\"us-east-1\")"
   ]
  },
  {
   "cell_type": "code",
   "execution_count": 24,
   "id": "12818e9c-3e0c-4efa-b520-e9d73d6f02ec",
   "metadata": {},
   "outputs": [],
   "source": [
    "table_name = 'TryDaxTable'\n",
    "params = {\n",
    "    'TableName': table_name,\n",
    "    'KeySchema': [\n",
    "        {'AttributeName': 'partition_key', 'KeyType': 'HASH'},\n",
    "        {'AttributeName': 'sort_key', 'KeyType': 'RANGE'}\n",
    "    ],\n",
    "    'AttributeDefinitions': [\n",
    "        {'AttributeName': 'partition_key', 'AttributeType': 'N'},\n",
    "        {'AttributeName': 'sort_key', 'AttributeType': 'N'}\n",
    "    ],\n",
    "    'ProvisionedThroughput': {\n",
    "        'ReadCapacityUnits': 10,\n",
    "        'WriteCapacityUnits': 10\n",
    "    }\n",
    "}"
   ]
  },
  {
   "cell_type": "code",
   "execution_count": 25,
   "id": "9adc71ea-987a-435c-a565-b53a72c81247",
   "metadata": {},
   "outputs": [
    {
     "name": "stdout",
     "output_type": "stream",
     "text": [
      "Error\n"
     ]
    }
   ],
   "source": [
    "try:\n",
    "    table = dyn_resource.create_table(**params)\n",
    "    print(f\"Creating {table_name}...\")\n",
    "    table.wait_until_exists()\n",
    "except:\n",
    "    print(\"Error\")"
   ]
  },
  {
   "cell_type": "code",
   "execution_count": 26,
   "id": "1e271665-2f82-425d-a40b-2eb160b3fcad",
   "metadata": {},
   "outputs": [],
   "source": [
    "table = dyn_resource.Table(table_name)"
   ]
  },
  {
   "cell_type": "code",
   "execution_count": 63,
   "id": "875f4e74-80ef-42d1-8382-5a6351285b27",
   "metadata": {},
   "outputs": [
    {
     "name": "stdout",
     "output_type": "stream",
     "text": [
      "Put item (1, 1) succeeded.\n",
      "Put item (1, 2) succeeded.\n",
      "Put item (1, 3) succeeded.\n",
      "Put item (1, 4) succeeded.\n",
      "Put item (1, 5) succeeded.\n",
      "Put item (1, 6) succeeded.\n",
      "Put item (1, 7) succeeded.\n",
      "Put item (1, 8) succeeded.\n",
      "Put item (1, 9) succeeded.\n",
      "Put item (1, 10) succeeded.\n",
      "Put item (2, 1) succeeded.\n",
      "Put item (2, 2) succeeded.\n",
      "Put item (2, 3) succeeded.\n",
      "Put item (2, 4) succeeded.\n",
      "Put item (2, 5) succeeded.\n",
      "Put item (2, 6) succeeded.\n",
      "Put item (2, 7) succeeded.\n",
      "Put item (2, 8) succeeded.\n",
      "Put item (2, 9) succeeded.\n",
      "Put item (2, 10) succeeded.\n",
      "Put item (3, 1) succeeded.\n",
      "Put item (3, 2) succeeded.\n",
      "Put item (3, 3) succeeded.\n",
      "Put item (3, 4) succeeded.\n",
      "Put item (3, 5) succeeded.\n",
      "Put item (3, 6) succeeded.\n",
      "Put item (3, 7) succeeded.\n",
      "Put item (3, 8) succeeded.\n",
      "Put item (3, 9) succeeded.\n",
      "Put item (3, 10) succeeded.\n",
      "Put item (4, 1) succeeded.\n",
      "Put item (4, 2) succeeded.\n",
      "Put item (4, 3) succeeded.\n",
      "Put item (4, 4) succeeded.\n",
      "Put item (4, 5) succeeded.\n",
      "Put item (4, 6) succeeded.\n",
      "Put item (4, 7) succeeded.\n",
      "Put item (4, 8) succeeded.\n",
      "Put item (4, 9) succeeded.\n",
      "Put item (4, 10) succeeded.\n",
      "Put item (5, 1) succeeded.\n",
      "Put item (5, 2) succeeded.\n",
      "Put item (5, 3) succeeded.\n",
      "Put item (5, 4) succeeded.\n",
      "Put item (5, 5) succeeded.\n",
      "Put item (5, 6) succeeded.\n",
      "Put item (5, 7) succeeded.\n",
      "Put item (5, 8) succeeded.\n",
      "Put item (5, 9) succeeded.\n",
      "Put item (5, 10) succeeded.\n",
      "Put item (6, 1) succeeded.\n",
      "Put item (6, 2) succeeded.\n",
      "Put item (6, 3) succeeded.\n",
      "Put item (6, 4) succeeded.\n",
      "Put item (6, 5) succeeded.\n",
      "Put item (6, 6) succeeded.\n",
      "Put item (6, 7) succeeded.\n",
      "Put item (6, 8) succeeded.\n",
      "Put item (6, 9) succeeded.\n",
      "Put item (6, 10) succeeded.\n",
      "Put item (7, 1) succeeded.\n",
      "Put item (7, 2) succeeded.\n",
      "Put item (7, 3) succeeded.\n",
      "Put item (7, 4) succeeded.\n",
      "Put item (7, 5) succeeded.\n",
      "Put item (7, 6) succeeded.\n",
      "Put item (7, 7) succeeded.\n",
      "Put item (7, 8) succeeded.\n",
      "Put item (7, 9) succeeded.\n",
      "Put item (7, 10) succeeded.\n",
      "Put item (8, 1) succeeded.\n",
      "Put item (8, 2) succeeded.\n",
      "Put item (8, 3) succeeded.\n",
      "Put item (8, 4) succeeded.\n",
      "Put item (8, 5) succeeded.\n",
      "Put item (8, 6) succeeded.\n",
      "Put item (8, 7) succeeded.\n",
      "Put item (8, 8) succeeded.\n",
      "Put item (8, 9) succeeded.\n",
      "Put item (8, 10) succeeded.\n",
      "Put item (9, 1) succeeded.\n",
      "Put item (9, 2) succeeded.\n",
      "Put item (9, 3) succeeded.\n",
      "Put item (9, 4) succeeded.\n",
      "Put item (9, 5) succeeded.\n",
      "Put item (9, 6) succeeded.\n",
      "Put item (9, 7) succeeded.\n",
      "Put item (9, 8) succeeded.\n",
      "Put item (9, 9) succeeded.\n",
      "Put item (9, 10) succeeded.\n",
      "Put item (10, 1) succeeded.\n",
      "Put item (10, 2) succeeded.\n",
      "Put item (10, 3) succeeded.\n",
      "Put item (10, 4) succeeded.\n",
      "Put item (10, 5) succeeded.\n",
      "Put item (10, 6) succeeded.\n",
      "Put item (10, 7) succeeded.\n",
      "Put item (10, 8) succeeded.\n",
      "Put item (10, 9) succeeded.\n",
      "Put item (10, 10) succeeded.\n"
     ]
    }
   ],
   "source": [
    "key_count = 10\n",
    "item_size = 10\n",
    "\n",
    "some_data = 'X' * item_size\n",
    "for partition_key in range(1, key_count + 1):\n",
    "    for sort_key in range(1, key_count + 1):\n",
    "        table.put_item(Item={\n",
    "            'partition_key': partition_key,\n",
    "            'sort_key': sort_key,\n",
    "            'some_data': some_data\n",
    "        })\n",
    "        print(f\"Put item ({partition_key}, {sort_key}) succeeded.\")"
   ]
  },
  {
   "cell_type": "code",
   "execution_count": 27,
   "id": "8e7765a0-14e8-4cda-b81f-81a016e216fe",
   "metadata": {},
   "outputs": [],
   "source": [
    "from boto3.dynamodb.conditions import Key"
   ]
  },
  {
   "cell_type": "code",
   "execution_count": 28,
   "id": "07b220ce-3914-457f-ae3c-71449dc8cda7",
   "metadata": {},
   "outputs": [],
   "source": [
    "partition_key = 5\n",
    "sort_keys = (2, 9)"
   ]
  },
  {
   "cell_type": "code",
   "execution_count": 29,
   "id": "eb629067-37c5-44fc-a542-102ca2022f62",
   "metadata": {},
   "outputs": [],
   "source": [
    "key_condition_expression = Key('partition_key').eq(partition_key) & Key('sort_key').between(*sort_keys)"
   ]
  },
  {
   "cell_type": "code",
   "execution_count": 32,
   "id": "0dcc8085-c737-43da-b41c-7bcd2481f690",
   "metadata": {},
   "outputs": [],
   "source": [
    "out = table.query(KeyConditionExpression=key_condition_expression)"
   ]
  },
  {
   "cell_type": "code",
   "execution_count": 33,
   "id": "c0b7664c-fc8a-4fd5-9279-7e88f7de71bf",
   "metadata": {},
   "outputs": [
    {
     "name": "stdout",
     "output_type": "stream",
     "text": [
      "{'some_data': 'XXXXXXXXXX', 'sort_key': Decimal('2'), 'partition_key': Decimal('5')}\n",
      "{'some_data': 'XXXXXXXXXX', 'sort_key': Decimal('3'), 'partition_key': Decimal('5')}\n",
      "{'some_data': 'XXXXXXXXXX', 'sort_key': Decimal('4'), 'partition_key': Decimal('5')}\n",
      "{'some_data': 'XXXXXXXXXX', 'sort_key': Decimal('5'), 'partition_key': Decimal('5')}\n",
      "{'some_data': 'XXXXXXXXXX', 'sort_key': Decimal('6'), 'partition_key': Decimal('5')}\n",
      "{'some_data': 'XXXXXXXXXX', 'sort_key': Decimal('7'), 'partition_key': Decimal('5')}\n",
      "{'some_data': 'XXXXXXXXXX', 'sort_key': Decimal('8'), 'partition_key': Decimal('5')}\n",
      "{'some_data': 'XXXXXXXXXX', 'sort_key': Decimal('9'), 'partition_key': Decimal('5')}\n"
     ]
    }
   ],
   "source": [
    "for r in out['Items']:\n",
    "    print(r)"
   ]
  },
  {
   "cell_type": "code",
   "execution_count": null,
   "id": "cd90bd8e-471c-4d16-a0d8-00deff004c8b",
   "metadata": {},
   "outputs": [],
   "source": []
  }
 ],
 "metadata": {
  "kernelspec": {
   "display_name": "Python 3 (ipykernel)",
   "language": "python",
   "name": "python3"
  },
  "language_info": {
   "codemirror_mode": {
    "name": "ipython",
    "version": 3
   },
   "file_extension": ".py",
   "mimetype": "text/x-python",
   "name": "python",
   "nbconvert_exporter": "python",
   "pygments_lexer": "ipython3",
   "version": "3.10.12"
  }
 },
 "nbformat": 4,
 "nbformat_minor": 5
}
