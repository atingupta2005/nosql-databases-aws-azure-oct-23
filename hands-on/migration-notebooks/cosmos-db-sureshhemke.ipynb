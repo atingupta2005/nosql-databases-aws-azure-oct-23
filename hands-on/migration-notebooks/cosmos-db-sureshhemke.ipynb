{
 "cells": [
  {
   "cell_type": "code",
   "execution_count": 1,
   "id": "0ec33032-d6fe-411d-a64a-e0524186b1d9",
   "metadata": {},
   "outputs": [
    {
     "name": "stdout",
     "output_type": "stream",
     "text": [
      "Collecting azure-cosmos\n",
      "  Downloading azure_cosmos-4.5.1-py3-none-any.whl (230 kB)\n",
      "\u001b[2K     \u001b[90m━━━━━━━━━━━━━━━━━━━━━━━━━━━━━━━━━━━━━━━\u001b[0m \u001b[32m230.6/230.6 KB\u001b[0m \u001b[31m4.2 MB/s\u001b[0m eta \u001b[36m0:00:00\u001b[0ma \u001b[36m0:00:01\u001b[0m\n",
      "\u001b[?25hCollecting azure-core<2.0.0,>=1.23.0\n",
      "  Downloading azure_core-1.29.4-py3-none-any.whl (192 kB)\n",
      "\u001b[2K     \u001b[90m━━━━━━━━━━━━━━━━━━━━━━━━━━━━━━━━━━━━━━━\u001b[0m \u001b[32m192.4/192.4 KB\u001b[0m \u001b[31m6.4 MB/s\u001b[0m eta \u001b[36m0:00:00\u001b[0m\n",
      "\u001b[?25hRequirement already satisfied: typing-extensions>=4.6.0 in /pyenv/lib/python3.10/site-packages (from azure-core<2.0.0,>=1.23.0->azure-cosmos) (4.8.0)\n",
      "Requirement already satisfied: six>=1.11.0 in /pyenv/lib/python3.10/site-packages (from azure-core<2.0.0,>=1.23.0->azure-cosmos) (1.16.0)\n",
      "Requirement already satisfied: requests>=2.18.4 in /pyenv/lib/python3.10/site-packages (from azure-core<2.0.0,>=1.23.0->azure-cosmos) (2.31.0)\n",
      "Requirement already satisfied: charset-normalizer<4,>=2 in /pyenv/lib/python3.10/site-packages (from requests>=2.18.4->azure-core<2.0.0,>=1.23.0->azure-cosmos) (3.3.0)\n",
      "Requirement already satisfied: idna<4,>=2.5 in /pyenv/lib/python3.10/site-packages (from requests>=2.18.4->azure-core<2.0.0,>=1.23.0->azure-cosmos) (3.4)\n",
      "Requirement already satisfied: urllib3<3,>=1.21.1 in /pyenv/lib/python3.10/site-packages (from requests>=2.18.4->azure-core<2.0.0,>=1.23.0->azure-cosmos) (2.0.6)\n",
      "Requirement already satisfied: certifi>=2017.4.17 in /pyenv/lib/python3.10/site-packages (from requests>=2.18.4->azure-core<2.0.0,>=1.23.0->azure-cosmos) (2023.7.22)\n",
      "Installing collected packages: azure-core, azure-cosmos\n",
      "Successfully installed azure-core-1.29.4 azure-cosmos-4.5.1\n"
     ]
    }
   ],
   "source": [
    "!pip install azure-cosmos"
   ]
  },
  {
   "cell_type": "code",
   "execution_count": 1,
   "id": "9dfb1202-377c-4fb5-8b72-ef71e4b1e974",
   "metadata": {},
   "outputs": [],
   "source": [
    "import json\n",
    "import os\n",
    "import sys\n",
    "import uuid\n",
    "\n",
    "from azure.core.exceptions import AzureError\n",
    "from azure.cosmos import CosmosClient, PartitionKey"
   ]
  },
  {
   "cell_type": "code",
   "execution_count": 6,
   "id": "1cc806f2-3736-4a84-9247-914eee6f0592",
   "metadata": {},
   "outputs": [],
   "source": [
    "ENDPOINT = \"https://u9-sureshhemke.documents.azure.com:443/\"\n",
    "KEY = \"D0TwQ82gRjhKgdIWXSlW0Ch2MBZHVrdk4H9DKCWjkPaMEiQe55qn7sDSVmi2ffeQvSuS9dDWm5nJACDbPoKiog==\"\n",
    "\n",
    "client = CosmosClient(url=ENDPOINT, credential=KEY)"
   ]
  },
  {
   "cell_type": "code",
   "execution_count": 7,
   "id": "da29056d-54fa-4b60-af21-19b419c0fb18",
   "metadata": {},
   "outputs": [],
   "source": [
    "CONN_STR = \"AccountEndpoint=https://u9-sureshhemke.documents.azure.com:443/;AccountKey=D0TwQ82gRjhKgdIWXSlW0Ch2MBZHVrdk4H9DKCWjkPaMEiQe55qn7sDSVmi2ffeQvSuS9dDWm5nJACDbPoKiog==;\"\n",
    "\n",
    "client = CosmosClient.from_connection_string(conn_str=CONN_STR)"
   ]
  },
  {
   "cell_type": "code",
   "execution_count": 23,
   "id": "629fb28f-6053-4253-9cb4-c21abfec73e3",
   "metadata": {},
   "outputs": [],
   "source": [
    "DATABASE_ID = \"sh-db-python\"\n",
    "database = client.create_database(id=DATABASE_ID)"
   ]
  },
  {
   "cell_type": "code",
   "execution_count": 7,
   "id": "8bd05bef-f096-440e-bf65-4f31c02faedc",
   "metadata": {},
   "outputs": [
    {
     "name": "stdout",
     "output_type": "stream",
     "text": [
      "Help on method create_database in module azure.cosmos.cosmos_client:\n",
      "\n",
      "create_database(id, populate_query_metrics=None, offer_throughput=None, **kwargs) method of azure.cosmos.cosmos_client.CosmosClient instance\n",
      "    Create a new database with the given ID (name).\n",
      "    \n",
      "    :param id: ID (name) of the database to create.\n",
      "    :param offer_throughput: The provisioned throughput for this offer.\n",
      "    :paramtype offer_throughput: int or ~azure.cosmos.ThroughputProperties.\n",
      "    :keyword str session_token: Token for use with Session consistency.\n",
      "    :keyword dict[str,str] initial_headers: Initial headers to be sent as part of the request.\n",
      "    :keyword str etag: An ETag value, or the wildcard character (*). Used to check if the resource\n",
      "        has changed, and act according to the condition specified by the `match_condition` parameter.\n",
      "    :keyword ~azure.core.MatchConditions match_condition: The match condition to use upon the etag.\n",
      "    :keyword Callable response_hook: A callable invoked with the response metadata.\n",
      "    :returns: A DatabaseProxy instance representing the new database.\n",
      "    :rtype: ~azure.cosmos.DatabaseProxy\n",
      "    :raises ~azure.cosmos.exceptions.CosmosResourceExistsError: Database with the given ID already exists.\n",
      "    \n",
      "    .. admonition:: Example:\n",
      "    \n",
      "        .. literalinclude:: ../samples/examples.py\n",
      "            :start-after: [START create_database]\n",
      "            :end-before: [END create_database]\n",
      "            :language: python\n",
      "            :dedent: 0\n",
      "            :caption: Create a database in the Cosmos DB account:\n",
      "            :name: create_database\n",
      "\n"
     ]
    }
   ],
   "source": [
    "help(client.create_database)"
   ]
  },
  {
   "cell_type": "code",
   "execution_count": 24,
   "id": "c1215e05-bb4d-484f-8549-30032e2707e0",
   "metadata": {},
   "outputs": [],
   "source": [
    "partition_key_path = PartitionKey(path=\"/categoryId\")"
   ]
  },
  {
   "cell_type": "code",
   "execution_count": 22,
   "id": "cd3f0269-760f-4f2b-beb4-7cd86425adbb",
   "metadata": {},
   "outputs": [
    {
     "ename": "CosmosHttpResponseError",
     "evalue": "(BadRequest) Message: {\"Errors\":[\"Your account is currently configured with a total throughput limit of 4000 RU\\/s. This operation failed because it would have increased the total throughput to 4800 RU\\/s. See https:\\/\\/aka.ms\\/cosmos-tp-limit for more information.\"]}\r\nActivityId: ac03000f-7c19-45e8-bd47-de4c68045d6a, Request URI: /apps/b95f400f-5a4f-42a3-aee9-5a2a247ce721/services/e604a177-17ae-4e69-81d3-73ea186b66ed/partitions/11a94583-0cbd-4aa8-8b3d-7e7fa5c433d9/replicas/133420503032500463p, RequestStats: , SDK: Microsoft.Azure.Documents.Common/2.14.0\nCode: BadRequest\nMessage: Message: {\"Errors\":[\"Your account is currently configured with a total throughput limit of 4000 RU\\/s. This operation failed because it would have increased the total throughput to 4800 RU\\/s. See https:\\/\\/aka.ms\\/cosmos-tp-limit for more information.\"]}\r\nActivityId: ac03000f-7c19-45e8-bd47-de4c68045d6a, Request URI: /apps/b95f400f-5a4f-42a3-aee9-5a2a247ce721/services/e604a177-17ae-4e69-81d3-73ea186b66ed/partitions/11a94583-0cbd-4aa8-8b3d-7e7fa5c433d9/replicas/133420503032500463p, RequestStats: , SDK: Microsoft.Azure.Documents.Common/2.14.0",
     "output_type": "error",
     "traceback": [
      "\u001b[0;31m---------------------------------------------------------------------------\u001b[0m",
      "\u001b[0;31mCosmosHttpResponseError\u001b[0m                   Traceback (most recent call last)",
      "Cell \u001b[0;32mIn[22], line 2\u001b[0m\n\u001b[1;32m      1\u001b[0m CONTAINER_ID \u001b[38;5;241m=\u001b[39m \u001b[38;5;124m\"\u001b[39m\u001b[38;5;124memployees\u001b[39m\u001b[38;5;124m\"\u001b[39m\n\u001b[0;32m----> 2\u001b[0m container \u001b[38;5;241m=\u001b[39m \u001b[43mdatabase\u001b[49m\u001b[38;5;241;43m.\u001b[39;49m\u001b[43mcreate_container\u001b[49m\u001b[43m(\u001b[49m\n\u001b[1;32m      3\u001b[0m \u001b[43m    \u001b[49m\u001b[38;5;28;43mid\u001b[39;49m\u001b[38;5;241;43m=\u001b[39;49m\u001b[43mCONTAINER_ID\u001b[49m\u001b[43m,\u001b[49m\n\u001b[1;32m      4\u001b[0m \u001b[43m    \u001b[49m\u001b[43mpartition_key\u001b[49m\u001b[38;5;241;43m=\u001b[39;49m\u001b[43mpartition_key_path\u001b[49m\u001b[43m,\u001b[49m\n\u001b[1;32m      5\u001b[0m \u001b[43m    \u001b[49m\u001b[43moffer_throughput\u001b[49m\u001b[38;5;241;43m=\u001b[39;49m\u001b[38;5;241;43m400\u001b[39;49m\u001b[43m,\u001b[49m\n\u001b[1;32m      6\u001b[0m \u001b[43m)\u001b[49m\n",
      "File \u001b[0;32m/pyenv/lib/python3.10/site-packages/azure/core/tracing/decorator.py:78\u001b[0m, in \u001b[0;36mdistributed_trace.<locals>.decorator.<locals>.wrapper_use_tracer\u001b[0;34m(*args, **kwargs)\u001b[0m\n\u001b[1;32m     76\u001b[0m span_impl_type \u001b[38;5;241m=\u001b[39m settings\u001b[38;5;241m.\u001b[39mtracing_implementation()\n\u001b[1;32m     77\u001b[0m \u001b[38;5;28;01mif\u001b[39;00m span_impl_type \u001b[38;5;129;01mis\u001b[39;00m \u001b[38;5;28;01mNone\u001b[39;00m:\n\u001b[0;32m---> 78\u001b[0m     \u001b[38;5;28;01mreturn\u001b[39;00m \u001b[43mfunc\u001b[49m\u001b[43m(\u001b[49m\u001b[38;5;241;43m*\u001b[39;49m\u001b[43margs\u001b[49m\u001b[43m,\u001b[49m\u001b[43m \u001b[49m\u001b[38;5;241;43m*\u001b[39;49m\u001b[38;5;241;43m*\u001b[39;49m\u001b[43mkwargs\u001b[49m\u001b[43m)\u001b[49m\n\u001b[1;32m     80\u001b[0m \u001b[38;5;66;03m# Merge span is parameter is set, but only if no explicit parent are passed\u001b[39;00m\n\u001b[1;32m     81\u001b[0m \u001b[38;5;28;01mif\u001b[39;00m merge_span \u001b[38;5;129;01mand\u001b[39;00m \u001b[38;5;129;01mnot\u001b[39;00m passed_in_parent:\n",
      "File \u001b[0;32m/pyenv/lib/python3.10/site-packages/azure/cosmos/database.py:237\u001b[0m, in \u001b[0;36mDatabaseProxy.create_container\u001b[0;34m(self, id, partition_key, indexing_policy, default_ttl, populate_query_metrics, offer_throughput, unique_key_policy, conflict_resolution_policy, **kwargs)\u001b[0m\n\u001b[1;32m    235\u001b[0m     request_options[\u001b[38;5;124m\"\u001b[39m\u001b[38;5;124mpopulateQueryMetrics\u001b[39m\u001b[38;5;124m\"\u001b[39m] \u001b[38;5;241m=\u001b[39m populate_query_metrics\n\u001b[1;32m    236\u001b[0m _set_throughput_options(offer\u001b[38;5;241m=\u001b[39moffer_throughput, request_options\u001b[38;5;241m=\u001b[39mrequest_options)\n\u001b[0;32m--> 237\u001b[0m data \u001b[38;5;241m=\u001b[39m \u001b[38;5;28;43mself\u001b[39;49m\u001b[38;5;241;43m.\u001b[39;49m\u001b[43mclient_connection\u001b[49m\u001b[38;5;241;43m.\u001b[39;49m\u001b[43mCreateContainer\u001b[49m\u001b[43m(\u001b[49m\n\u001b[1;32m    238\u001b[0m \u001b[43m    \u001b[49m\u001b[43mdatabase_link\u001b[49m\u001b[38;5;241;43m=\u001b[39;49m\u001b[38;5;28;43mself\u001b[39;49m\u001b[38;5;241;43m.\u001b[39;49m\u001b[43mdatabase_link\u001b[49m\u001b[43m,\u001b[49m\u001b[43m \u001b[49m\u001b[43mcollection\u001b[49m\u001b[38;5;241;43m=\u001b[39;49m\u001b[43mdefinition\u001b[49m\u001b[43m,\u001b[49m\u001b[43m \u001b[49m\u001b[43moptions\u001b[49m\u001b[38;5;241;43m=\u001b[39;49m\u001b[43mrequest_options\u001b[49m\u001b[43m,\u001b[49m\u001b[43m \u001b[49m\u001b[38;5;241;43m*\u001b[39;49m\u001b[38;5;241;43m*\u001b[39;49m\u001b[43mkwargs\u001b[49m\n\u001b[1;32m    239\u001b[0m \u001b[43m\u001b[49m\u001b[43m)\u001b[49m\n\u001b[1;32m    241\u001b[0m \u001b[38;5;28;01mif\u001b[39;00m response_hook:\n\u001b[1;32m    242\u001b[0m     response_hook(\u001b[38;5;28mself\u001b[39m\u001b[38;5;241m.\u001b[39mclient_connection\u001b[38;5;241m.\u001b[39mlast_response_headers, data)\n",
      "File \u001b[0;32m/pyenv/lib/python3.10/site-packages/azure/cosmos/_cosmos_client_connection.py:460\u001b[0m, in \u001b[0;36mCosmosClientConnection.CreateContainer\u001b[0;34m(self, database_link, collection, options, **kwargs)\u001b[0m\n\u001b[1;32m    458\u001b[0m path \u001b[38;5;241m=\u001b[39m base\u001b[38;5;241m.\u001b[39mGetPathFromLink(database_link, \u001b[38;5;124m\"\u001b[39m\u001b[38;5;124mcolls\u001b[39m\u001b[38;5;124m\"\u001b[39m)\n\u001b[1;32m    459\u001b[0m database_id \u001b[38;5;241m=\u001b[39m base\u001b[38;5;241m.\u001b[39mGetResourceIdOrFullNameFromLink(database_link)\n\u001b[0;32m--> 460\u001b[0m \u001b[38;5;28;01mreturn\u001b[39;00m \u001b[38;5;28;43mself\u001b[39;49m\u001b[38;5;241;43m.\u001b[39;49m\u001b[43mCreate\u001b[49m\u001b[43m(\u001b[49m\u001b[43mcollection\u001b[49m\u001b[43m,\u001b[49m\u001b[43m \u001b[49m\u001b[43mpath\u001b[49m\u001b[43m,\u001b[49m\u001b[43m \u001b[49m\u001b[38;5;124;43m\"\u001b[39;49m\u001b[38;5;124;43mcolls\u001b[39;49m\u001b[38;5;124;43m\"\u001b[39;49m\u001b[43m,\u001b[49m\u001b[43m \u001b[49m\u001b[43mdatabase_id\u001b[49m\u001b[43m,\u001b[49m\u001b[43m \u001b[49m\u001b[38;5;28;43;01mNone\u001b[39;49;00m\u001b[43m,\u001b[49m\u001b[43m \u001b[49m\u001b[43moptions\u001b[49m\u001b[43m,\u001b[49m\u001b[43m \u001b[49m\u001b[38;5;241;43m*\u001b[39;49m\u001b[38;5;241;43m*\u001b[39;49m\u001b[43mkwargs\u001b[49m\u001b[43m)\u001b[49m\n",
      "File \u001b[0;32m/pyenv/lib/python3.10/site-packages/azure/cosmos/_cosmos_client_connection.py:2176\u001b[0m, in \u001b[0;36mCosmosClientConnection.Create\u001b[0;34m(self, body, path, typ, id, initial_headers, options, **kwargs)\u001b[0m\n\u001b[1;32m   2173\u001b[0m \u001b[38;5;66;03m# Create will use WriteEndpoint since it uses POST operation\u001b[39;00m\n\u001b[1;32m   2175\u001b[0m request_params \u001b[38;5;241m=\u001b[39m _request_object\u001b[38;5;241m.\u001b[39mRequestObject(typ, documents\u001b[38;5;241m.\u001b[39m_OperationType\u001b[38;5;241m.\u001b[39mCreate)\n\u001b[0;32m-> 2176\u001b[0m result, \u001b[38;5;28mself\u001b[39m\u001b[38;5;241m.\u001b[39mlast_response_headers \u001b[38;5;241m=\u001b[39m \u001b[38;5;28;43mself\u001b[39;49m\u001b[38;5;241;43m.\u001b[39;49m\u001b[43m__Post\u001b[49m\u001b[43m(\u001b[49m\u001b[43mpath\u001b[49m\u001b[43m,\u001b[49m\u001b[43m \u001b[49m\u001b[43mrequest_params\u001b[49m\u001b[43m,\u001b[49m\u001b[43m \u001b[49m\u001b[43mbody\u001b[49m\u001b[43m,\u001b[49m\u001b[43m \u001b[49m\u001b[43mheaders\u001b[49m\u001b[43m,\u001b[49m\u001b[43m \u001b[49m\u001b[38;5;241;43m*\u001b[39;49m\u001b[38;5;241;43m*\u001b[39;49m\u001b[43mkwargs\u001b[49m\u001b[43m)\u001b[49m\n\u001b[1;32m   2178\u001b[0m \u001b[38;5;66;03m# update session for write request\u001b[39;00m\n\u001b[1;32m   2179\u001b[0m \u001b[38;5;28mself\u001b[39m\u001b[38;5;241m.\u001b[39m_UpdateSessionIfRequired(headers, result, \u001b[38;5;28mself\u001b[39m\u001b[38;5;241m.\u001b[39mlast_response_headers)\n",
      "File \u001b[0;32m/pyenv/lib/python3.10/site-packages/azure/cosmos/_cosmos_client_connection.py:2342\u001b[0m, in \u001b[0;36mCosmosClientConnection.__Post\u001b[0;34m(self, path, request_params, body, req_headers, **kwargs)\u001b[0m\n\u001b[1;32m   2328\u001b[0m \u001b[38;5;250m\u001b[39m\u001b[38;5;124;03m\"\"\"Azure Cosmos 'POST' http request.\u001b[39;00m\n\u001b[1;32m   2329\u001b[0m \n\u001b[1;32m   2330\u001b[0m \u001b[38;5;124;03m:params str url:\u001b[39;00m\n\u001b[0;32m   (...)\u001b[0m\n\u001b[1;32m   2339\u001b[0m \n\u001b[1;32m   2340\u001b[0m \u001b[38;5;124;03m\"\"\"\u001b[39;00m\n\u001b[1;32m   2341\u001b[0m request \u001b[38;5;241m=\u001b[39m \u001b[38;5;28mself\u001b[39m\u001b[38;5;241m.\u001b[39mpipeline_client\u001b[38;5;241m.\u001b[39mpost(url\u001b[38;5;241m=\u001b[39mpath, headers\u001b[38;5;241m=\u001b[39mreq_headers)\n\u001b[0;32m-> 2342\u001b[0m \u001b[38;5;28;01mreturn\u001b[39;00m \u001b[43msynchronized_request\u001b[49m\u001b[38;5;241;43m.\u001b[39;49m\u001b[43mSynchronizedRequest\u001b[49m\u001b[43m(\u001b[49m\n\u001b[1;32m   2343\u001b[0m \u001b[43m    \u001b[49m\u001b[43mclient\u001b[49m\u001b[38;5;241;43m=\u001b[39;49m\u001b[38;5;28;43mself\u001b[39;49m\u001b[43m,\u001b[49m\n\u001b[1;32m   2344\u001b[0m \u001b[43m    \u001b[49m\u001b[43mrequest_params\u001b[49m\u001b[38;5;241;43m=\u001b[39;49m\u001b[43mrequest_params\u001b[49m\u001b[43m,\u001b[49m\n\u001b[1;32m   2345\u001b[0m \u001b[43m    \u001b[49m\u001b[43mglobal_endpoint_manager\u001b[49m\u001b[38;5;241;43m=\u001b[39;49m\u001b[38;5;28;43mself\u001b[39;49m\u001b[38;5;241;43m.\u001b[39;49m\u001b[43m_global_endpoint_manager\u001b[49m\u001b[43m,\u001b[49m\n\u001b[1;32m   2346\u001b[0m \u001b[43m    \u001b[49m\u001b[43mconnection_policy\u001b[49m\u001b[38;5;241;43m=\u001b[39;49m\u001b[38;5;28;43mself\u001b[39;49m\u001b[38;5;241;43m.\u001b[39;49m\u001b[43mconnection_policy\u001b[49m\u001b[43m,\u001b[49m\n\u001b[1;32m   2347\u001b[0m \u001b[43m    \u001b[49m\u001b[43mpipeline_client\u001b[49m\u001b[38;5;241;43m=\u001b[39;49m\u001b[38;5;28;43mself\u001b[39;49m\u001b[38;5;241;43m.\u001b[39;49m\u001b[43mpipeline_client\u001b[49m\u001b[43m,\u001b[49m\n\u001b[1;32m   2348\u001b[0m \u001b[43m    \u001b[49m\u001b[43mrequest\u001b[49m\u001b[38;5;241;43m=\u001b[39;49m\u001b[43mrequest\u001b[49m\u001b[43m,\u001b[49m\n\u001b[1;32m   2349\u001b[0m \u001b[43m    \u001b[49m\u001b[43mrequest_data\u001b[49m\u001b[38;5;241;43m=\u001b[39;49m\u001b[43mbody\u001b[49m\u001b[43m,\u001b[49m\n\u001b[1;32m   2350\u001b[0m \u001b[43m    \u001b[49m\u001b[38;5;241;43m*\u001b[39;49m\u001b[38;5;241;43m*\u001b[39;49m\u001b[43mkwargs\u001b[49m\n\u001b[1;32m   2351\u001b[0m \u001b[43m\u001b[49m\u001b[43m)\u001b[49m\n",
      "File \u001b[0;32m/pyenv/lib/python3.10/site-packages/azure/cosmos/_synchronized_request.py:206\u001b[0m, in \u001b[0;36mSynchronizedRequest\u001b[0;34m(client, request_params, global_endpoint_manager, connection_policy, pipeline_client, request, request_data, **kwargs)\u001b[0m\n\u001b[1;32m    203\u001b[0m     request\u001b[38;5;241m.\u001b[39mheaders[http_constants\u001b[38;5;241m.\u001b[39mHttpHeaders\u001b[38;5;241m.\u001b[39mContentLength] \u001b[38;5;241m=\u001b[39m \u001b[38;5;241m0\u001b[39m\n\u001b[1;32m    205\u001b[0m \u001b[38;5;66;03m# Pass _Request function with it's parameters to retry_utility's Execute method that wraps the call with retries\u001b[39;00m\n\u001b[0;32m--> 206\u001b[0m \u001b[38;5;28;01mreturn\u001b[39;00m \u001b[43m_retry_utility\u001b[49m\u001b[38;5;241;43m.\u001b[39;49m\u001b[43mExecute\u001b[49m\u001b[43m(\u001b[49m\n\u001b[1;32m    207\u001b[0m \u001b[43m    \u001b[49m\u001b[43mclient\u001b[49m\u001b[43m,\u001b[49m\n\u001b[1;32m    208\u001b[0m \u001b[43m    \u001b[49m\u001b[43mglobal_endpoint_manager\u001b[49m\u001b[43m,\u001b[49m\n\u001b[1;32m    209\u001b[0m \u001b[43m    \u001b[49m\u001b[43m_Request\u001b[49m\u001b[43m,\u001b[49m\n\u001b[1;32m    210\u001b[0m \u001b[43m    \u001b[49m\u001b[43mrequest_params\u001b[49m\u001b[43m,\u001b[49m\n\u001b[1;32m    211\u001b[0m \u001b[43m    \u001b[49m\u001b[43mconnection_policy\u001b[49m\u001b[43m,\u001b[49m\n\u001b[1;32m    212\u001b[0m \u001b[43m    \u001b[49m\u001b[43mpipeline_client\u001b[49m\u001b[43m,\u001b[49m\n\u001b[1;32m    213\u001b[0m \u001b[43m    \u001b[49m\u001b[43mrequest\u001b[49m\u001b[43m,\u001b[49m\n\u001b[1;32m    214\u001b[0m \u001b[43m    \u001b[49m\u001b[38;5;241;43m*\u001b[39;49m\u001b[38;5;241;43m*\u001b[39;49m\u001b[43mkwargs\u001b[49m\n\u001b[1;32m    215\u001b[0m \u001b[43m\u001b[49m\u001b[43m)\u001b[49m\n",
      "File \u001b[0;32m/pyenv/lib/python3.10/site-packages/azure/cosmos/_retry_utility.py:83\u001b[0m, in \u001b[0;36mExecute\u001b[0;34m(client, global_endpoint_manager, function, *args, **kwargs)\u001b[0m\n\u001b[1;32m     81\u001b[0m start_time \u001b[38;5;241m=\u001b[39m time\u001b[38;5;241m.\u001b[39mtime()\n\u001b[1;32m     82\u001b[0m \u001b[38;5;28;01mif\u001b[39;00m args:\n\u001b[0;32m---> 83\u001b[0m     result \u001b[38;5;241m=\u001b[39m \u001b[43mExecuteFunction\u001b[49m\u001b[43m(\u001b[49m\u001b[43mfunction\u001b[49m\u001b[43m,\u001b[49m\u001b[43m \u001b[49m\u001b[43mglobal_endpoint_manager\u001b[49m\u001b[43m,\u001b[49m\u001b[43m \u001b[49m\u001b[38;5;241;43m*\u001b[39;49m\u001b[43margs\u001b[49m\u001b[43m,\u001b[49m\u001b[43m \u001b[49m\u001b[38;5;241;43m*\u001b[39;49m\u001b[38;5;241;43m*\u001b[39;49m\u001b[43mkwargs\u001b[49m\u001b[43m)\u001b[49m\n\u001b[1;32m     84\u001b[0m \u001b[38;5;28;01melse\u001b[39;00m:\n\u001b[1;32m     85\u001b[0m     result \u001b[38;5;241m=\u001b[39m ExecuteFunction(function, \u001b[38;5;241m*\u001b[39margs, \u001b[38;5;241m*\u001b[39m\u001b[38;5;241m*\u001b[39mkwargs)\n",
      "File \u001b[0;32m/pyenv/lib/python3.10/site-packages/azure/cosmos/_retry_utility.py:143\u001b[0m, in \u001b[0;36mExecuteFunction\u001b[0;34m(function, *args, **kwargs)\u001b[0m\n\u001b[1;32m    140\u001b[0m \u001b[38;5;28;01mdef\u001b[39;00m \u001b[38;5;21mExecuteFunction\u001b[39m(function, \u001b[38;5;241m*\u001b[39margs, \u001b[38;5;241m*\u001b[39m\u001b[38;5;241m*\u001b[39mkwargs):\n\u001b[1;32m    141\u001b[0m \u001b[38;5;250m    \u001b[39m\u001b[38;5;124;03m\"\"\"Stub method so that it can be used for mocking purposes as well.\u001b[39;00m\n\u001b[1;32m    142\u001b[0m \u001b[38;5;124;03m    \"\"\"\u001b[39;00m\n\u001b[0;32m--> 143\u001b[0m     \u001b[38;5;28;01mreturn\u001b[39;00m \u001b[43mfunction\u001b[49m\u001b[43m(\u001b[49m\u001b[38;5;241;43m*\u001b[39;49m\u001b[43margs\u001b[49m\u001b[43m,\u001b[49m\u001b[43m \u001b[49m\u001b[38;5;241;43m*\u001b[39;49m\u001b[38;5;241;43m*\u001b[39;49m\u001b[43mkwargs\u001b[49m\u001b[43m)\u001b[49m\n",
      "File \u001b[0;32m/pyenv/lib/python3.10/site-packages/azure/cosmos/_synchronized_request.py:154\u001b[0m, in \u001b[0;36m_Request\u001b[0;34m(global_endpoint_manager, request_params, connection_policy, pipeline_client, request, **kwargs)\u001b[0m\n\u001b[1;32m    152\u001b[0m     \u001b[38;5;28;01mraise\u001b[39;00m exceptions\u001b[38;5;241m.\u001b[39mCosmosAccessConditionFailedError(message\u001b[38;5;241m=\u001b[39mdata, response\u001b[38;5;241m=\u001b[39mresponse)\n\u001b[1;32m    153\u001b[0m \u001b[38;5;28;01mif\u001b[39;00m response\u001b[38;5;241m.\u001b[39mstatus_code \u001b[38;5;241m>\u001b[39m\u001b[38;5;241m=\u001b[39m \u001b[38;5;241m400\u001b[39m:\n\u001b[0;32m--> 154\u001b[0m     \u001b[38;5;28;01mraise\u001b[39;00m exceptions\u001b[38;5;241m.\u001b[39mCosmosHttpResponseError(message\u001b[38;5;241m=\u001b[39mdata, response\u001b[38;5;241m=\u001b[39mresponse)\n\u001b[1;32m    156\u001b[0m result \u001b[38;5;241m=\u001b[39m \u001b[38;5;28;01mNone\u001b[39;00m\n\u001b[1;32m    157\u001b[0m \u001b[38;5;28;01mif\u001b[39;00m data:\n",
      "\u001b[0;31mCosmosHttpResponseError\u001b[0m: (BadRequest) Message: {\"Errors\":[\"Your account is currently configured with a total throughput limit of 4000 RU\\/s. This operation failed because it would have increased the total throughput to 4800 RU\\/s. See https:\\/\\/aka.ms\\/cosmos-tp-limit for more information.\"]}\r\nActivityId: ac03000f-7c19-45e8-bd47-de4c68045d6a, Request URI: /apps/b95f400f-5a4f-42a3-aee9-5a2a247ce721/services/e604a177-17ae-4e69-81d3-73ea186b66ed/partitions/11a94583-0cbd-4aa8-8b3d-7e7fa5c433d9/replicas/133420503032500463p, RequestStats: , SDK: Microsoft.Azure.Documents.Common/2.14.0\nCode: BadRequest\nMessage: Message: {\"Errors\":[\"Your account is currently configured with a total throughput limit of 4000 RU\\/s. This operation failed because it would have increased the total throughput to 4800 RU\\/s. See https:\\/\\/aka.ms\\/cosmos-tp-limit for more information.\"]}\r\nActivityId: ac03000f-7c19-45e8-bd47-de4c68045d6a, Request URI: /apps/b95f400f-5a4f-42a3-aee9-5a2a247ce721/services/e604a177-17ae-4e69-81d3-73ea186b66ed/partitions/11a94583-0cbd-4aa8-8b3d-7e7fa5c433d9/replicas/133420503032500463p, RequestStats: , SDK: Microsoft.Azure.Documents.Common/2.14.0"
     ]
    }
   ],
   "source": [
    "CONTAINER_ID = \"employees\"\n",
    "container = database.create_container(\n",
    "    id=CONTAINER_ID,\n",
    "    partition_key=partition_key_path,\n",
    "    offer_throughput=400,\n",
    ")"
   ]
  },
  {
   "cell_type": "code",
   "execution_count": 12,
   "id": "e2ae8143-49a1-42f8-94d9-cab036787c51",
   "metadata": {},
   "outputs": [],
   "source": [
    "emp1 = {\"id\": \"1\",\n",
    "       \"name\": \"Suresh Hemke\",\n",
    "       \"age\": 43}"
   ]
  },
  {
   "cell_type": "code",
   "execution_count": 13,
   "id": "898e97aa-422e-490e-ba9c-46034a24e654",
   "metadata": {},
   "outputs": [
    {
     "name": "stdout",
     "output_type": "stream",
     "text": [
      "{'id': '1', 'name': 'Suresh Hemke', 'age': 43}\n"
     ]
    }
   ],
   "source": [
    "print(emp1)"
   ]
  },
  {
   "cell_type": "code",
   "execution_count": 14,
   "id": "58b392b1-1976-4663-9e0b-0b305621ffc5",
   "metadata": {},
   "outputs": [
    {
     "ename": "NameError",
     "evalue": "name 'container' is not defined",
     "output_type": "error",
     "traceback": [
      "\u001b[0;31m---------------------------------------------------------------------------\u001b[0m",
      "\u001b[0;31mNameError\u001b[0m                                 Traceback (most recent call last)",
      "Cell \u001b[0;32mIn[14], line 1\u001b[0m\n\u001b[0;32m----> 1\u001b[0m \u001b[43mcontainer\u001b[49m\u001b[38;5;241m.\u001b[39mcreate_item(body\u001b[38;5;241m=\u001b[39memp1)\n",
      "\u001b[0;31mNameError\u001b[0m: name 'container' is not defined"
     ]
    }
   ],
   "source": [
    "container.create_item(body=emp1)"
   ]
  },
  {
   "cell_type": "code",
   "execution_count": 15,
   "id": "eea8f95c-44b7-41ec-9cfb-8bd9b8420ac1",
   "metadata": {},
   "outputs": [
    {
     "ename": "NameError",
     "evalue": "name 'container' is not defined",
     "output_type": "error",
     "traceback": [
      "\u001b[0;31m---------------------------------------------------------------------------\u001b[0m",
      "\u001b[0;31mNameError\u001b[0m                                 Traceback (most recent call last)",
      "Cell \u001b[0;32mIn[15], line 8\u001b[0m\n\u001b[1;32m      1\u001b[0m \u001b[38;5;28;01mfor\u001b[39;00m ktr \u001b[38;5;129;01min\u001b[39;00m \u001b[38;5;28mrange\u001b[39m(\u001b[38;5;241m10\u001b[39m, \u001b[38;5;241m100\u001b[39m):\n\u001b[1;32m      2\u001b[0m     emp1 \u001b[38;5;241m=\u001b[39m {\u001b[38;5;124m\"\u001b[39m\u001b[38;5;124mid\u001b[39m\u001b[38;5;124m\"\u001b[39m: \u001b[38;5;28mstr\u001b[39m(ktr),\n\u001b[1;32m      3\u001b[0m            \u001b[38;5;124m\"\u001b[39m\u001b[38;5;124mname\u001b[39m\u001b[38;5;124m\"\u001b[39m: \u001b[38;5;124mf\u001b[39m\u001b[38;5;124m\"\u001b[39m\u001b[38;5;124mAtin Gupta-\u001b[39m\u001b[38;5;132;01m{\u001b[39;00mktr\u001b[38;5;132;01m}\u001b[39;00m\u001b[38;5;124m\"\u001b[39m,\n\u001b[1;32m      4\u001b[0m            \u001b[38;5;124m\"\u001b[39m\u001b[38;5;124mage\u001b[39m\u001b[38;5;124m\"\u001b[39m: \u001b[38;5;241m43\u001b[39m \u001b[38;5;241m+\u001b[39m ktr,\n\u001b[1;32m      5\u001b[0m             \u001b[38;5;124m\"\u001b[39m\u001b[38;5;124mcategoryId\u001b[39m\u001b[38;5;124m\"\u001b[39m: \u001b[38;5;124m\"\u001b[39m\u001b[38;5;124mNew Joinee\u001b[39m\u001b[38;5;124m\"\u001b[39m\n\u001b[1;32m      6\u001b[0m            }\n\u001b[0;32m----> 8\u001b[0m     \u001b[43mcontainer\u001b[49m\u001b[38;5;241m.\u001b[39mcreate_item(emp1)\n",
      "\u001b[0;31mNameError\u001b[0m: name 'container' is not defined"
     ]
    }
   ],
   "source": [
    "for ktr in range(10, 100):\n",
    "    emp1 = {\"id\": str(ktr),\n",
    "           \"name\": f\"Atin Gupta-{ktr}\",\n",
    "           \"age\": 43 + ktr,\n",
    "            \"categoryId\": \"New Joinee\"\n",
    "           }\n",
    "    \n",
    "    container.create_item(emp1)"
   ]
  },
  {
   "cell_type": "code",
   "execution_count": null,
   "id": "17056f24-251d-4699-a2f8-d02fed42213b",
   "metadata": {},
   "outputs": [],
   "source": []
  }
 ],
 "metadata": {
  "kernelspec": {
   "display_name": "Python 3 (ipykernel)",
   "language": "python",
   "name": "python3"
  },
  "language_info": {
   "codemirror_mode": {
    "name": "ipython",
    "version": 3
   },
   "file_extension": ".py",
   "mimetype": "text/x-python",
   "name": "python",
   "nbconvert_exporter": "python",
   "pygments_lexer": "ipython3",
   "version": "3.10.12"
  }
 },
 "nbformat": 4,
 "nbformat_minor": 5
}
