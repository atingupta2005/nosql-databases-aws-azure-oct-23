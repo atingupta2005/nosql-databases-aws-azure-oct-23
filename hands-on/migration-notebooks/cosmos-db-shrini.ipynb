{
 "cells": [
  {
   "cell_type": "code",
   "execution_count": 1,
   "id": "7779f258-cfc2-460e-8a17-88790878b833",
   "metadata": {},
   "outputs": [
    {
     "name": "stdout",
     "output_type": "stream",
     "text": [
      "Requirement already satisfied: azure-cosmos in /pyenv/lib/python3.10/site-packages (4.5.1)\n",
      "Requirement already satisfied: azure-core<2.0.0,>=1.23.0 in /pyenv/lib/python3.10/site-packages (from azure-cosmos) (1.29.4)\n",
      "Requirement already satisfied: six>=1.11.0 in /pyenv/lib/python3.10/site-packages (from azure-core<2.0.0,>=1.23.0->azure-cosmos) (1.16.0)\n",
      "Requirement already satisfied: typing-extensions>=4.6.0 in /pyenv/lib/python3.10/site-packages (from azure-core<2.0.0,>=1.23.0->azure-cosmos) (4.8.0)\n",
      "Requirement already satisfied: requests>=2.18.4 in /pyenv/lib/python3.10/site-packages (from azure-core<2.0.0,>=1.23.0->azure-cosmos) (2.31.0)\n",
      "Requirement already satisfied: charset-normalizer<4,>=2 in /pyenv/lib/python3.10/site-packages (from requests>=2.18.4->azure-core<2.0.0,>=1.23.0->azure-cosmos) (3.3.0)\n",
      "Requirement already satisfied: idna<4,>=2.5 in /pyenv/lib/python3.10/site-packages (from requests>=2.18.4->azure-core<2.0.0,>=1.23.0->azure-cosmos) (3.4)\n",
      "Requirement already satisfied: certifi>=2017.4.17 in /pyenv/lib/python3.10/site-packages (from requests>=2.18.4->azure-core<2.0.0,>=1.23.0->azure-cosmos) (2023.7.22)\n",
      "Requirement already satisfied: urllib3<3,>=1.21.1 in /pyenv/lib/python3.10/site-packages (from requests>=2.18.4->azure-core<2.0.0,>=1.23.0->azure-cosmos) (2.0.6)\n"
     ]
    }
   ],
   "source": [
    "!pip install azure-cosmos"
   ]
  },
  {
   "cell_type": "code",
   "execution_count": 2,
   "id": "d9c6844c-011f-4831-8e6c-820f117a2067",
   "metadata": {},
   "outputs": [],
   "source": [
    "import json\n",
    "import os\n",
    "import sys\n",
    "import uuid\n",
    "\n",
    "from azure.core.exceptions import AzureError\n",
    "from azure.cosmos import CosmosClient, PartitionKey"
   ]
  },
  {
   "cell_type": "code",
   "execution_count": 3,
   "id": "08c7a46a-8d4e-4939-a3e6-dc914a3999ac",
   "metadata": {},
   "outputs": [],
   "source": [
    "ENDPOINT = \"https://shrini-cosmos.documents.azure.com:443/\"\n",
    "KEY = \"NdbuyD1NQwuUXu5yTEsLRVPF1fSmkuUls1NbQBcaSM2XnisPGVfmzgIWzVVkW0GIg1VpgFe738RXACDbcnL5sw==\"\n",
    "\n",
    "client = CosmosClient(url=ENDPOINT, credential=KEY)"
   ]
  },
  {
   "cell_type": "code",
   "execution_count": 5,
   "id": "2bd3ad1b-4331-4f08-ad86-ea5dec0ce6fe",
   "metadata": {},
   "outputs": [],
   "source": [
    "DATABASE_ID = \"shrini-18OCT\"\n",
    "database = client.create_database(id=DATABASE_ID)"
   ]
  },
  {
   "cell_type": "code",
   "execution_count": 6,
   "id": "8b40c6d1-6454-485e-b50e-d5a0947f080c",
   "metadata": {},
   "outputs": [],
   "source": [
    "partition_key_path = PartitionKey(path=\"/categoryId\")"
   ]
  },
  {
   "cell_type": "code",
   "execution_count": 7,
   "id": "97241a0f-0951-43d9-a322-4af29b0c058e",
   "metadata": {},
   "outputs": [],
   "source": [
    "CONTAINER_ID = \"employees\"\n",
    "container = database.create_container(\n",
    "    id=CONTAINER_ID,\n",
    "    partition_key=partition_key_path,\n",
    "    offer_throughput=400,\n",
    ")"
   ]
  },
  {
   "cell_type": "code",
   "execution_count": 8,
   "id": "66205e29-9ee4-4407-9d9b-56cfa1e2735e",
   "metadata": {},
   "outputs": [],
   "source": [
    "emp1 = {\"id\": \"1\",\n",
    "       \"name\": \"Atin Gupta\",\n",
    "       \"age\": 43}"
   ]
  },
  {
   "cell_type": "code",
   "execution_count": 9,
   "id": "5c208a59-d6c8-4e15-8035-699e9d373c1f",
   "metadata": {},
   "outputs": [
    {
     "name": "stdout",
     "output_type": "stream",
     "text": [
      "{'id': '1', 'name': 'Atin Gupta', 'age': 43}\n"
     ]
    }
   ],
   "source": [
    "print(emp1)"
   ]
  },
  {
   "cell_type": "code",
   "execution_count": 10,
   "id": "774c8abd-fe88-4a72-bf03-3184783620a8",
   "metadata": {},
   "outputs": [
    {
     "data": {
      "text/plain": [
       "{'id': '1',\n",
       " 'name': 'Atin Gupta',\n",
       " 'age': 43,\n",
       " '_rid': 'O5poANlle3uBhB4AAAAAAA==',\n",
       " '_self': 'dbs/O5poAA==/colls/O5poANlle3s=/docs/O5poANlle3uBhB4AAAAAAA==/',\n",
       " '_etag': '\"5c006144-0000-0700-0000-652f745d0000\"',\n",
       " '_attachments': 'attachments/',\n",
       " '_ts': 1697608797}"
      ]
     },
     "execution_count": 10,
     "metadata": {},
     "output_type": "execute_result"
    }
   ],
   "source": [
    "container.create_item(body=emp1)"
   ]
  },
  {
   "cell_type": "code",
   "execution_count": 12,
   "id": "d36b7496-0bbf-44e4-ba01-cb170f0cd287",
   "metadata": {},
   "outputs": [],
   "source": [
    "for ktr in range(800, 1000):\n",
    "    emp1 = {\"id\": str(ktr),\n",
    "           \"name\": f\"Cosmos-{ktr}\",\n",
    "           \"age\": 35 + ktr,\n",
    "            \"categoryId\": \"New batch\"\n",
    "           }\n",
    "    \n",
    "    container.create_item(body=emp1)"
   ]
  },
  {
   "cell_type": "code",
   "execution_count": null,
   "id": "c480c977-d3be-4d9e-8c88-ecc651510f70",
   "metadata": {},
   "outputs": [],
   "source": []
  }
 ],
 "metadata": {
  "kernelspec": {
   "display_name": "Python 3 (ipykernel)",
   "language": "python",
   "name": "python3"
  },
  "language_info": {
   "codemirror_mode": {
    "name": "ipython",
    "version": 3
   },
   "file_extension": ".py",
   "mimetype": "text/x-python",
   "name": "python",
   "nbconvert_exporter": "python",
   "pygments_lexer": "ipython3",
   "version": "3.10.12"
  }
 },
 "nbformat": 4,
 "nbformat_minor": 5
}
