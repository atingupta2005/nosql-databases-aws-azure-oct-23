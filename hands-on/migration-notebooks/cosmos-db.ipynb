{
 "cells": [
  {
   "cell_type": "code",
   "execution_count": 1,
   "id": "0ec33032-d6fe-411d-a64a-e0524186b1d9",
   "metadata": {},
   "outputs": [
    {
     "name": "stdout",
     "output_type": "stream",
     "text": [
      "Collecting azure-cosmos\n",
      "  Downloading azure_cosmos-4.5.1-py3-none-any.whl (230 kB)\n",
      "\u001b[2K     \u001b[90m━━━━━━━━━━━━━━━━━━━━━━━━━━━━━━━━━━━━━━━\u001b[0m \u001b[32m230.6/230.6 KB\u001b[0m \u001b[31m4.2 MB/s\u001b[0m eta \u001b[36m0:00:00\u001b[0ma \u001b[36m0:00:01\u001b[0m\n",
      "\u001b[?25hCollecting azure-core<2.0.0,>=1.23.0\n",
      "  Downloading azure_core-1.29.4-py3-none-any.whl (192 kB)\n",
      "\u001b[2K     \u001b[90m━━━━━━━━━━━━━━━━━━━━━━━━━━━━━━━━━━━━━━━\u001b[0m \u001b[32m192.4/192.4 KB\u001b[0m \u001b[31m6.4 MB/s\u001b[0m eta \u001b[36m0:00:00\u001b[0m\n",
      "\u001b[?25hRequirement already satisfied: typing-extensions>=4.6.0 in /pyenv/lib/python3.10/site-packages (from azure-core<2.0.0,>=1.23.0->azure-cosmos) (4.8.0)\n",
      "Requirement already satisfied: six>=1.11.0 in /pyenv/lib/python3.10/site-packages (from azure-core<2.0.0,>=1.23.0->azure-cosmos) (1.16.0)\n",
      "Requirement already satisfied: requests>=2.18.4 in /pyenv/lib/python3.10/site-packages (from azure-core<2.0.0,>=1.23.0->azure-cosmos) (2.31.0)\n",
      "Requirement already satisfied: charset-normalizer<4,>=2 in /pyenv/lib/python3.10/site-packages (from requests>=2.18.4->azure-core<2.0.0,>=1.23.0->azure-cosmos) (3.3.0)\n",
      "Requirement already satisfied: idna<4,>=2.5 in /pyenv/lib/python3.10/site-packages (from requests>=2.18.4->azure-core<2.0.0,>=1.23.0->azure-cosmos) (3.4)\n",
      "Requirement already satisfied: urllib3<3,>=1.21.1 in /pyenv/lib/python3.10/site-packages (from requests>=2.18.4->azure-core<2.0.0,>=1.23.0->azure-cosmos) (2.0.6)\n",
      "Requirement already satisfied: certifi>=2017.4.17 in /pyenv/lib/python3.10/site-packages (from requests>=2.18.4->azure-core<2.0.0,>=1.23.0->azure-cosmos) (2023.7.22)\n",
      "Installing collected packages: azure-core, azure-cosmos\n",
      "Successfully installed azure-core-1.29.4 azure-cosmos-4.5.1\n"
     ]
    }
   ],
   "source": [
    "!pip install azure-cosmos"
   ]
  },
  {
   "cell_type": "code",
   "execution_count": 2,
   "id": "9dfb1202-377c-4fb5-8b72-ef71e4b1e974",
   "metadata": {},
   "outputs": [],
   "source": [
    "import json\n",
    "import os\n",
    "import sys\n",
    "import uuid\n",
    "\n",
    "from azure.core.exceptions import AzureError\n",
    "from azure.cosmos import CosmosClient, PartitionKey"
   ]
  },
  {
   "cell_type": "code",
   "execution_count": 27,
   "id": "1cc806f2-3736-4a84-9247-914eee6f0592",
   "metadata": {},
   "outputs": [],
   "source": [
    "ENDPOINT = \"https://atin-cosmos-2222222.documents.azure.com:443/\"\n",
    "KEY = \"fLJSyvZV3r2jEN4tMvsURHwCd7y0RCjoYZTThO1E5J5MKaPV0AomzkDFaizmAMQPaOESRalYGTLdACDbVIAQcA==\"\n",
    "\n",
    "client = CosmosClient(url=ENDPOINT, credential=KEY)"
   ]
  },
  {
   "cell_type": "code",
   "execution_count": 28,
   "id": "da29056d-54fa-4b60-af21-19b419c0fb18",
   "metadata": {},
   "outputs": [],
   "source": [
    "CONN_STR = \"AccountEndpoint=https://atin-cosmos-2222222.documents.azure.com:443/;AccountKey=fLJSyvZV3r2jEN4tMvsURHwCd7y0RCjoYZTThO1E5J5MKaPV0AomzkDFaizmAMQPaOESRalYGTLdACDbVIAQcA==;\"\n",
    "\n",
    "client = CosmosClient.from_connection_string(conn_str=CONN_STR)"
   ]
  },
  {
   "cell_type": "code",
   "execution_count": 29,
   "id": "629fb28f-6053-4253-9cb4-c21abfec73e3",
   "metadata": {},
   "outputs": [],
   "source": [
    "DATABASE_ID = \"ag-db-python\"\n",
    "database = client.create_database(id=DATABASE_ID)"
   ]
  },
  {
   "cell_type": "code",
   "execution_count": 30,
   "id": "8bd05bef-f096-440e-bf65-4f31c02faedc",
   "metadata": {},
   "outputs": [
    {
     "name": "stdout",
     "output_type": "stream",
     "text": [
      "Help on method create_database in module azure.cosmos.cosmos_client:\n",
      "\n",
      "create_database(id, populate_query_metrics=None, offer_throughput=None, **kwargs) method of azure.cosmos.cosmos_client.CosmosClient instance\n",
      "    Create a new database with the given ID (name).\n",
      "    \n",
      "    :param id: ID (name) of the database to create.\n",
      "    :param offer_throughput: The provisioned throughput for this offer.\n",
      "    :paramtype offer_throughput: int or ~azure.cosmos.ThroughputProperties.\n",
      "    :keyword str session_token: Token for use with Session consistency.\n",
      "    :keyword dict[str,str] initial_headers: Initial headers to be sent as part of the request.\n",
      "    :keyword str etag: An ETag value, or the wildcard character (*). Used to check if the resource\n",
      "        has changed, and act according to the condition specified by the `match_condition` parameter.\n",
      "    :keyword ~azure.core.MatchConditions match_condition: The match condition to use upon the etag.\n",
      "    :keyword Callable response_hook: A callable invoked with the response metadata.\n",
      "    :returns: A DatabaseProxy instance representing the new database.\n",
      "    :rtype: ~azure.cosmos.DatabaseProxy\n",
      "    :raises ~azure.cosmos.exceptions.CosmosResourceExistsError: Database with the given ID already exists.\n",
      "    \n",
      "    .. admonition:: Example:\n",
      "    \n",
      "        .. literalinclude:: ../samples/examples.py\n",
      "            :start-after: [START create_database]\n",
      "            :end-before: [END create_database]\n",
      "            :language: python\n",
      "            :dedent: 0\n",
      "            :caption: Create a database in the Cosmos DB account:\n",
      "            :name: create_database\n",
      "\n"
     ]
    }
   ],
   "source": [
    "help(client.create_database)"
   ]
  },
  {
   "cell_type": "code",
   "execution_count": 31,
   "id": "c1215e05-bb4d-484f-8549-30032e2707e0",
   "metadata": {},
   "outputs": [],
   "source": [
    "partition_key_path = PartitionKey(path=\"/categoryId\")"
   ]
  },
  {
   "cell_type": "code",
   "execution_count": 32,
   "id": "cd3f0269-760f-4f2b-beb4-7cd86425adbb",
   "metadata": {},
   "outputs": [],
   "source": [
    "CONTAINER_ID = \"employees\"\n",
    "container = database.create_container(\n",
    "    id=CONTAINER_ID,\n",
    "    partition_key=partition_key_path,\n",
    "    offer_throughput=400,\n",
    ")"
   ]
  },
  {
   "cell_type": "code",
   "execution_count": 33,
   "id": "e2ae8143-49a1-42f8-94d9-cab036787c51",
   "metadata": {},
   "outputs": [],
   "source": [
    "emp1 = {\"id\": \"1\",\n",
    "       \"name\": \"Atin Gupta\",\n",
    "       \"age\": 43}"
   ]
  },
  {
   "cell_type": "code",
   "execution_count": 34,
   "id": "898e97aa-422e-490e-ba9c-46034a24e654",
   "metadata": {},
   "outputs": [
    {
     "name": "stdout",
     "output_type": "stream",
     "text": [
      "{'id': '1', 'name': 'Atin Gupta', 'age': 43}\n"
     ]
    }
   ],
   "source": [
    "print(emp1)"
   ]
  },
  {
   "cell_type": "code",
   "execution_count": 35,
   "id": "58b392b1-1976-4663-9e0b-0b305621ffc5",
   "metadata": {},
   "outputs": [
    {
     "data": {
      "text/plain": [
       "{'id': '1',\n",
       " 'name': 'Atin Gupta',\n",
       " 'age': 43,\n",
       " '_rid': 'ERI2APAiRMiBhB4AAAAAAA==',\n",
       " '_self': 'dbs/ERI2AA==/colls/ERI2APAiRMg=/docs/ERI2APAiRMiBhB4AAAAAAA==/',\n",
       " '_etag': '\"00005c05-0000-0700-0000-652f7aa00000\"',\n",
       " '_attachments': 'attachments/',\n",
       " '_ts': 1697610400}"
      ]
     },
     "execution_count": 35,
     "metadata": {},
     "output_type": "execute_result"
    }
   ],
   "source": [
    "container.create_item(body=emp1)"
   ]
  },
  {
   "cell_type": "code",
   "execution_count": 36,
   "id": "979dac4d-b090-4fc0-8b7a-f9d22b7cd5be",
   "metadata": {},
   "outputs": [
    {
     "data": {
      "text/plain": [
       "2"
      ]
     },
     "execution_count": 36,
     "metadata": {},
     "output_type": "execute_result"
    }
   ],
   "source": [
    "5 % 3"
   ]
  },
  {
   "cell_type": "code",
   "execution_count": 37,
   "id": "eea8f95c-44b7-41ec-9cfb-8bd9b8420ac1",
   "metadata": {},
   "outputs": [
    {
     "name": "stdout",
     "output_type": "stream",
     "text": [
      "410 records inserted\n",
      "420 records inserted\n",
      "430 records inserted\n",
      "440 records inserted\n"
     ]
    }
   ],
   "source": [
    "for ktr in range(401, 450):\n",
    "    emp1 = {\"id\": str(ktr),\n",
    "           \"name\": f\"Atin Gupta-{ktr}\",\n",
    "           \"age\": 43 + ktr,\n",
    "            \"categoryId\": \"New Joinee\"\n",
    "           }\n",
    "    if ktr % 10 == 0: print(f\"{ktr} records inserted\")\n",
    "    container.create_item(emp1)"
   ]
  },
  {
   "cell_type": "code",
   "execution_count": null,
   "id": "5a9a7fa1-7975-4380-9f57-64175024d4d4",
   "metadata": {},
   "outputs": [],
   "source": []
  }
 ],
 "metadata": {
  "kernelspec": {
   "display_name": "Python 3 (ipykernel)",
   "language": "python",
   "name": "python3"
  },
  "language_info": {
   "codemirror_mode": {
    "name": "ipython",
    "version": 3
   },
   "file_extension": ".py",
   "mimetype": "text/x-python",
   "name": "python",
   "nbconvert_exporter": "python",
   "pygments_lexer": "ipython3",
   "version": "3.10.12"
  }
 },
 "nbformat": 4,
 "nbformat_minor": 5
}
