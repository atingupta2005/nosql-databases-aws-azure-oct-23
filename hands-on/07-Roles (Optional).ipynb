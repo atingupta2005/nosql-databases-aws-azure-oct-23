{
 "cells": [
  {
   "cell_type": "markdown",
   "id": "b65ba57a",
   "metadata": {},
   "source": [
    "## Database Roles"
   ]
  },
  {
   "cell_type": "markdown",
   "id": "878e1dab",
   "metadata": {},
   "source": [
    "- CQL uses database roles to represent users and group of users."
   ]
  },
  {
   "cell_type": "code",
   "execution_count": null,
   "id": "249ecf3d",
   "metadata": {},
   "outputs": [],
   "source": [
    "CREATE ROLE alice WITH PASSWORD = 'password_a' AND LOGIN = true;"
   ]
  },
  {
   "cell_type": "code",
   "execution_count": null,
   "id": "eaf135e5",
   "metadata": {},
   "outputs": [],
   "source": [
    "CREATE ROLE bob WITH PASSWORD = 'password_b' AND LOGIN = true AND SUPERUSER = true;"
   ]
  },
  {
   "cell_type": "code",
   "execution_count": null,
   "id": "ed08fc87",
   "metadata": {},
   "outputs": [],
   "source": [
    "CREATE ROLE alice WITH PASSWORD = 'password_a' AND LOGIN = true AND ACCESS TO DATACENTERS {'DC1', 'DC3'};"
   ]
  },
  {
   "cell_type": "code",
   "execution_count": null,
   "id": "8bcfbb83",
   "metadata": {},
   "outputs": [],
   "source": [
    "CREATE ROLE alice WITH PASSWORD = 'password_a' AND LOGIN = true AND ACCESS TO ALL DATACENTERS;"
   ]
  },
  {
   "cell_type": "code",
   "execution_count": null,
   "id": "6a5e1282",
   "metadata": {},
   "outputs": [],
   "source": [
    "ALTER ROLE bob WITH PASSWORD = 'PASSWORD_B' AND SUPERUSER = false;"
   ]
  },
  {
   "cell_type": "code",
   "execution_count": null,
   "id": "7a0faa78",
   "metadata": {},
   "outputs": [],
   "source": [
    "GRANT report_writer TO alice;"
   ]
  },
  {
   "cell_type": "code",
   "execution_count": null,
   "id": "24631956",
   "metadata": {},
   "outputs": [],
   "source": [
    "REVOKE report_writer FROM alice;"
   ]
  },
  {
   "cell_type": "code",
   "execution_count": null,
   "id": "01e9b67f",
   "metadata": {},
   "outputs": [],
   "source": [
    "LIST ROLES;"
   ]
  },
  {
   "cell_type": "code",
   "execution_count": null,
   "id": "7736aef2",
   "metadata": {},
   "outputs": [],
   "source": [
    "LIST ROLES OF alice;"
   ]
  }
 ],
 "metadata": {
  "kernelspec": {
   "display_name": "CQL",
   "language": "CQL",
   "name": "cql"
  },
  "language_info": {
   "codemirror_mode": "sql",
   "file_extension": ".cql",
   "mimetype": "text/x-cassandra",
   "name": "CQL"
  }
 },
 "nbformat": 4,
 "nbformat_minor": 5
}
