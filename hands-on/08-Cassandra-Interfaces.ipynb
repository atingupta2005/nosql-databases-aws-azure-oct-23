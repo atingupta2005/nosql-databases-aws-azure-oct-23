{
 "cells": [
  {
   "cell_type": "markdown",
   "id": "fc5b93ed",
   "metadata": {},
   "source": [
    "## Cassandra Interfaces"
   ]
  },
  {
   "cell_type": "markdown",
   "id": "cc0afb27",
   "metadata": {},
   "source": [
    "- There are many interfaces with which you can access data from Cassandra, such as:\n",
    "\n",
    "    - The command line interface known as Cassandra Query Language shell or cqlsh\n",
    "    - The Java interface called DataStax Driver\n",
    "    - The ODBC\n",
    "    - PHP interface\n",
    "    - Python interface\n",
    "    - Ruby interface\n",
    "    - C# and .Net interface"
   ]
  },
  {
   "cell_type": "markdown",
   "id": "a61c24fc",
   "metadata": {},
   "source": [
    "## Cassandra Command Line Interface\n",
    "\n",
    "- The command line interface in Cassandra is called cqlsh. In cqlsh, the host and port connect to Cassandra using the CQLSH_HOST and CQLSH_PORT environment variables respectively.\n",
    "- The default host is localhost or 127.0.0.1, and the default port is 9160. Cqlsh is part of the package installation and installed to a bin directory on Linux. Its working is also similar to that of the Linux shell. Cqlsh supports the Cassandra Query Language or CQL.\n",
    "- Start cqlsh using the command cqlsh. It gives the Cassandra cqlsh prompt as output."
   ]
  },
  {
   "cell_type": "markdown",
   "id": "c0dd11c1",
   "metadata": {},
   "source": [
    "## Java Interfaces\n",
    "- In Cassandra, the Java interface is provided by the DataStax Java Driver\n",
    "- It uses CQL binary protocol and provides asynchronous processing so that clients do not have to wait\n",
    "- It also provides automatic nodes discovery.\n",
    "- This means the driver finds and uses all the nodes in the cluster\n",
    "- The Java driver is also fault tolerant\n",
    "- If a Cassandra node processing the request fails, the driver will automatically connect to other nodes in the cluster"
   ]
  },
  {
   "cell_type": "markdown",
   "id": "384f71f1",
   "metadata": {},
   "source": [
    "## ODBC Interface\n",
    "- DataStax provides the ODBC driver for Cassandra\n",
    "- ODBC is a standard interface used by some database utilities\n",
    "- The ODBC driver for 64-bit windows can be downloaded from the given link.\n",
    "- You can configure the ODBC connection to Cassandra using the above driver\n",
    "- The ODBC driver makes it possible to connect to Cassandra from other languages like PHP, Python, and C#."
   ]
  }
 ],
 "metadata": {
  "kernelspec": {
   "display_name": "CQL",
   "language": "CQL",
   "name": "cql"
  },
  "language_info": {
   "codemirror_mode": "sql",
   "file_extension": ".cql",
   "mimetype": "text/x-cassandra",
   "name": "CQL"
  }
 },
 "nbformat": 4,
 "nbformat_minor": 5
}
